{
 "cells": [
  {
   "cell_type": "markdown",
   "id": "80b42aef",
   "metadata": {},
   "source": [
    "# Load libraries"
   ]
  },
  {
   "cell_type": "code",
   "execution_count": 1,
   "id": "18b5ccea",
   "metadata": {},
   "outputs": [],
   "source": [
    "import os\n",
    "import numpy as np\n",
    "import pickle\n",
    "import matplotlib.pyplot as plt\n",
    "import random"
   ]
  },
  {
   "cell_type": "code",
   "execution_count": null,
   "id": "ed9fe15a-0752-47f5-a139-5d57f6723b27",
   "metadata": {},
   "outputs": [],
   "source": []
  },
  {
   "cell_type": "code",
   "execution_count": 2,
   "id": "e6d3dde3",
   "metadata": {},
   "outputs": [],
   "source": [
    "from collections.abc import Iterable\n",
    "\n",
    "def flatten(l):\n",
    "    for el in l:\n",
    "        if isinstance(el, Iterable) and not isinstance(el, (str, bytes)):\n",
    "            yield from flatten(el)\n",
    "        else:\n",
    "            yield el"
   ]
  },
  {
   "cell_type": "code",
   "execution_count": 3,
   "id": "3c8cc85d",
   "metadata": {},
   "outputs": [],
   "source": [
    "# Features list \n",
    "# 0 : oenv\n",
    "# 1 : tempo\n",
    "# 2 : pulse\n",
    "# 3 : mfcc\n",
    "# 4 : centroid\n",
    "# 5 : rolloff\n",
    "# 6 : flatness\n",
    "# 7 : spec_bw\n",
    "# 8 : contrast\n",
    "# 9 : pitch\n",
    "# "
   ]
  },
  {
   "cell_type": "code",
   "execution_count": 4,
   "id": "1351c392",
   "metadata": {
    "tags": []
   },
   "outputs": [
    {
     "name": "stdout",
     "output_type": "stream",
     "text": [
      "Working directory: /home/jovyan/work/data\n",
      "Working directory: /home/jovyan/work/data\n"
     ]
    }
   ],
   "source": [
    "data_pwd = '../data/'\n",
    "os.chdir(data_pwd)\n",
    "print('Working directory:', os.getcwd())\n",
    "# load extracted features\n",
    "data_fn = 'algorave10-feature-extraction.pkl'\n",
    "with open(data_fn, 'rb') as handle:\n",
    "    d = pickle.load(handle)\n",
    "keys = sorted(list(d.keys()))\n",
    "#\n",
    "\n",
    "data_pwd = '../data/'\n",
    "os.chdir(data_pwd)\n",
    "print('Working directory:', os.getcwd())\n",
    "# load list of performances\n",
    "with open('performances.pkl', 'rb') as handle:\n",
    "    performances = pickle.load(handle)\n",
    "# load list with outliers\n",
    "with open('outliers_idx.pkl', 'rb') as handle:\n",
    "    outliers_idx = pickle.load(handle)\n",
    "# REVERSED KEYS\n",
    "keys = list(reversed(sorted(list(d.keys()))))\n",
    "\n",
    "# get spectral centroid data\n",
    "oenv_data = [] # idx: 0\n",
    "pulse_data = [] # idx: 2\n",
    "mfcc_data = [] # idx: 3\n",
    "centroid_data = [] # idx: 4\n",
    "rolloff_data = [] # idx: 5\n",
    "flatness_data = [] # idx: 6\n",
    "specbw_data = [] # idx: 7\n",
    "contrast_data = [] # idx: 8\n",
    "pitch_data = [] # idx: 9\n",
    "\n",
    "for i in range(0, len(keys)):\n",
    "    if i not in outliers_idx:\n",
    "        key = keys[i]\n",
    "        # print(key)\n",
    "        oenv = d[key][0][1].reshape(-1)\n",
    "        oenv_data.append(oenv)\n",
    "        pulse = d[key][2][1].reshape(-1)\n",
    "        pulse_data.append(pulse)\n",
    "        mfcc = d[key][3][1]\n",
    "        mfcc_data.append(mfcc)\n",
    "        centroid = d[key][4][1].reshape(-1)\n",
    "        centroid_data.append(centroid)\n",
    "        rolloff = d[key][5][1].reshape(-1)\n",
    "        rolloff_data.append(rolloff)\n",
    "        flatness = d[key][6][1].reshape(-1)\n",
    "        flatness_data.append(flatness)\n",
    "        specbw = d[key][7][1].reshape(-1)\n",
    "        specbw_data.append(specbw)\n",
    "        contrast = d[key][8][1]\n",
    "        contrast_data.append(contrast)\n",
    "        pitch = d[key][9][1][0]\n",
    "        pitch_data.append(pitch)"
   ]
  },
  {
   "cell_type": "markdown",
   "id": "0bd8960d",
   "metadata": {},
   "source": [
    "# Global descriptors\n",
    "- Mean and std for each performance"
   ]
  },
  {
   "cell_type": "code",
   "execution_count": 5,
   "id": "e0d33110",
   "metadata": {},
   "outputs": [
    {
     "data": {
      "text/plain": [
       "(133, 12, list, dict, 133)"
      ]
     },
     "execution_count": 5,
     "metadata": {},
     "output_type": "execute_result"
    }
   ],
   "source": [
    "len(performances), len(outliers_idx), type(performances), type(d), len(list(d.keys())) # list(d.keys()), "
   ]
  },
  {
   "cell_type": "code",
   "execution_count": 6,
   "id": "ebcc2cb9-2555-4f77-8c87-c647fc277d7e",
   "metadata": {},
   "outputs": [
    {
     "data": {
      "text/plain": [
       "('pulu',\n",
       " '2022-03-20 20:50',\n",
       " 'https://archive.org/details/algorave',\n",
       " 'https://archive.org/download/algorave-10-pulu/be28cb5a-06a0-4658-a467-125c8b7ed3fb-20-Mar-22-20-50-19.mp4',\n",
       " 'Helsinki',\n",
       " 'UFORAVE!QUICKLY :: from neural network poison swamp to game boy(girl) supercollider supercatastrophe')"
      ]
     },
     "execution_count": 6,
     "metadata": {},
     "output_type": "execute_result"
    }
   ],
   "source": [
    "performances[0]"
   ]
  },
  {
   "cell_type": "code",
   "execution_count": 7,
   "id": "856e9467-f89a-4915-8f9d-5229e72bb0e2",
   "metadata": {},
   "outputs": [
    {
     "data": {
      "text/plain": [
       "([],\n",
       " ['20-Mar-22-05-20',\n",
       "  '19-Mar-22-22-10',\n",
       "  '20-Mar-22-05-00',\n",
       "  '20-Mar-22-17-40',\n",
       "  '20-Mar-22-04-30'],\n",
       " 133)"
      ]
     },
     "execution_count": 7,
     "metadata": {},
     "output_type": "execute_result"
    }
   ],
   "source": [
    "list_d = list(d.keys())\n",
    "[x for x in enumerate(list_d) if x == ''], list_d[:5], len(list_d)"
   ]
  },
  {
   "cell_type": "code",
   "execution_count": null,
   "id": "6e6f3cb5-ed0c-4578-b4b1-b9dedeff70d4",
   "metadata": {},
   "outputs": [],
   "source": []
  },
  {
   "cell_type": "code",
   "execution_count": 8,
   "id": "f4d4388f-831d-471e-bab9-b4a2ccca0454",
   "metadata": {},
   "outputs": [
    {
     "data": {
      "text/plain": [
       "(133,\n",
       " ['19-Mar-22-21-00',\n",
       "  '19-Mar-22-21-10',\n",
       "  '19-Mar-22-21-20',\n",
       "  '19-Mar-22-21-30',\n",
       "  '19-Mar-22-21-40'])"
      ]
     },
     "execution_count": 8,
     "metadata": {},
     "output_type": "execute_result"
    }
   ],
   "source": [
    "keys = sorted(list(d.keys()))\n",
    "len(keys), keys[:5]"
   ]
  },
  {
   "cell_type": "code",
   "execution_count": null,
   "id": "e54e2bed-0eb0-4116-b6df-29ddcb24da81",
   "metadata": {},
   "outputs": [],
   "source": []
  },
  {
   "cell_type": "markdown",
   "id": "f04fdf09-8d8d-45e0-b010-47828971a026",
   "metadata": {},
   "source": [
    "## Extract global descriptors per segment"
   ]
  },
  {
   "cell_type": "code",
   "execution_count": 9,
   "id": "881880e8",
   "metadata": {},
   "outputs": [],
   "source": [
    "feature_vals = []\n",
    "\n",
    "for i in range(0, len(oenv_data)):\n",
    "#     print('i =', i)\n",
    "    vals = [\n",
    "        # mean\n",
    "        np.mean(oenv_data[i]),\n",
    "        np.mean(centroid_data[i]),\n",
    "        np.mean(rolloff_data[i]),\n",
    "        np.nanmean(pitch_data[i]),\n",
    "        # std\n",
    "#         np.std(oenv_data[i]),\n",
    "#         np.std(centroid_data[i]),\n",
    "#         np.std(rolloff_data[i]),\n",
    "#         np.nanstd(pitch_data[i]),        \n",
    "    ]\n",
    "    feature_vals.append(list(flatten(vals))) "
   ]
  },
  {
   "cell_type": "code",
   "execution_count": 10,
   "id": "1181f55b-9ebe-42e5-a0ad-2b9b50b87a50",
   "metadata": {},
   "outputs": [
    {
     "data": {
      "text/plain": [
       "(121, 4)"
      ]
     },
     "execution_count": 10,
     "metadata": {},
     "output_type": "execute_result"
    }
   ],
   "source": [
    "np.shape(feature_vals)"
   ]
  },
  {
   "cell_type": "markdown",
   "id": "77257a32",
   "metadata": {},
   "source": [
    "# Assign features to a variable"
   ]
  },
  {
   "cell_type": "code",
   "execution_count": 11,
   "id": "0f92ed58",
   "metadata": {},
   "outputs": [
    {
     "data": {
      "text/plain": [
       "(121, 4)"
      ]
     },
     "execution_count": 11,
     "metadata": {},
     "output_type": "execute_result"
    }
   ],
   "source": [
    "X = np.array(feature_vals)\n",
    "X.shape"
   ]
  },
  {
   "cell_type": "markdown",
   "id": "da66d63f-abb5-492f-832c-e6eb6f05fc1c",
   "metadata": {},
   "source": [
    "# Plot histograms of features"
   ]
  },
  {
   "cell_type": "code",
   "execution_count": 12,
   "id": "d4fde078",
   "metadata": {},
   "outputs": [
    {
     "data": {
      "image/png": "[encoded data removed]",
      "text/plain": [
       "<Figure size 1000x800 with 4 Axes>"
      ]
     },
     "metadata": {},
     "output_type": "display_data"
    }
   ],
   "source": [
    "tfont = 22\n",
    "bsize = 20\n",
    "plt.figure(figsize=(10,8))\n",
    "# 1\n",
    "plt.subplot(221)\n",
    "plt.hist(X[:, 0], bins=bsize);\n",
    "plt.xticks(fontsize=14)\n",
    "plt.yticks(fontsize=14)\n",
    "plt.xlabel('Frequency (Hz)', fontsize=16)\n",
    "plt.title('Onsets strength', fontsize=tfont)\n",
    "# 2\n",
    "plt.subplot(222)\n",
    "plt.hist(X[:, 3], bins=bsize);\n",
    "plt.xticks(fontsize=14, rotation=90)\n",
    "plt.yticks(fontsize=14)\n",
    "plt.xlabel('Frequency (Hz)', fontsize=16)\n",
    "plt.title('Pitch', fontsize=tfont)\n",
    "# 3\n",
    "plt.subplot(223)\n",
    "plt.hist(X[:, 1], bins=bsize);\n",
    "plt.xticks(fontsize=14, rotation=90)\n",
    "plt.yticks(fontsize=14)\n",
    "plt.xlabel('Frequency (Hz)', fontsize=16)\n",
    "plt.title('Spectral centroid', fontsize=tfont)\n",
    "# 4\n",
    "plt.subplot(224)\n",
    "plt.hist(X[:, 2], bins=bsize);\n",
    "plt.xticks(fontsize=14, rotation=90)\n",
    "plt.yticks([0, 5, 10, 15, 20], fontsize=14)\n",
    "plt.xlabel('Frequency (Hz)', fontsize=16)\n",
    "plt.title('Spectral rolloff', fontsize=tfont)\n",
    "\n",
    "plt.tight_layout()"
   ]
  },
  {
   "cell_type": "code",
   "execution_count": null,
   "id": "108cef0b",
   "metadata": {},
   "outputs": [],
   "source": []
  },
  {
   "cell_type": "markdown",
   "id": "547e21be",
   "metadata": {},
   "source": [
    "# Assign performances and systems"
   ]
  },
  {
   "cell_type": "code",
   "execution_count": 13,
   "id": "4c3ddaa5",
   "metadata": {},
   "outputs": [
    {
     "data": {
      "text/plain": [
       "(133, 133)"
      ]
     },
     "execution_count": 13,
     "metadata": {},
     "output_type": "execute_result"
    }
   ],
   "source": [
    "len(keys), len(performances)"
   ]
  },
  {
   "cell_type": "code",
   "execution_count": 14,
   "id": "17830968",
   "metadata": {
    "scrolled": true
   },
   "outputs": [
    {
     "name": "stdout",
     "output_type": "stream",
     "text": [
      "0 UFORAVE!QUICKLY :: from neural network poison swamp to game boy(girl) supercollider supercatastrophe\n",
      "1 Wonky beats and broken synths\n",
      "2 Some patterns\n",
      "3 lofi algorithmic sequencer and a load of synths followed by some crashing SuperCollider code :)\n",
      "4 Beats de la montaña\n",
      "5 TidalCycles + SuperCollider\n",
      "7 foxdot + orca\n",
      "8 Everyone's friend Calum Gunn off the top rope, back from early parenthood to play Music Online\n",
      "9 symbiotic beats / machine listening (SC3) control of live coding (Tidal) with some help from Python\n",
      "10 AlgaLib/eration\n",
      "11 SuperCollider / Recursion / Choatic / Semi-Repititions\n",
      "12 algo-ukg\n",
      "13 Some kind of krautrock with TC\n",
      "14 Fun_with_swing\n",
      "15 distributed live coding performance using https://c0l1v3.bgo.la/\n",
      "16 Don't let the music distract you from the emojis\n",
      "17 event related potential / clickwork / tidalcycles with fx\n",
      "18 undefined\n",
      "19 Improvised from scratch Techno infused with Berliner rave spirit made with TidalCycles and SuperCollider, visuals in Hydra.\n",
      "20 trying out some things with tidal\n",
      "21 beats and sounds with SuperCollider\n",
      "22 Khipumancer (+ the Neokhipukamayoq Manifesto)\n",
      "23 TWN Botcore\n",
      "24 Subaquatic live-coding and analog visuals\n",
      "25 using soundb0ard // https://github.com/sideb0ard/SoundB0ard\n",
      "26 (a)live computing dance\n",
      "27 cinging (coding + singing)\n",
      "28 a DIY guitar + synths + flock\n",
      "29 etheric birthday loop meditations in tidal + hydra\n",
      "30 'PyTouch'\n",
      "32 live and coding\n",
      "33 live drawing + hydra + maybe freesound or maybe not\n",
      "34 i love sonicPI\n",
      "35 BBScar (FoxDot)\n",
      "36 Tidalcycles / TouchDesigner and openFrameworks visials\n",
      "37 Livecoding with TidalCycles & TouchDesigner.\n",
      "38 My first Livecoding performance using Strudel REPL, which runs new tidal js implementation: https://strudel.tidalcycles.org/\n",
      "39 EverySongIOwn making music using neural networks and entire teenage music collection. https://soundcloud.com/skatterbrainz/everysongiown-v3\n",
      "41 tidalcycles_touchdesigner\n",
      "42 Indian Dance Music, Irregular Dance Music, or Irrelevant Dance Music\n",
      "43 TidalCycles + Drum Machines + Hardware Synths + Hydra\n",
      "44 TidalCycles\n",
      "45 I'm bad at writing descriptions\n",
      "46 #algoclassical #algolectro #codeDJ #tidalcycles\n",
      "47 Performance with SonicPi and MIDI controller\n",
      "48 SonicPi Live coding Acid Techno\n",
      "49 SonicPi + orca\n",
      "50 Orca beats + Veda visuals : bentnoise on Insta\n",
      "51 incoherent electronic garbage\n",
      "52 microtuned modal music with ORCA and folderkit\n",
      "53 Bzz bzzs, blip blops, and other awful sounds with TidalCycles and SuperCollider\n",
      "54 supercollider and kemence\n",
      "55 Foxdot\n",
      "56 Some strange loops\n",
      "57 newbie making breakbeaty things on sonic pi\n",
      "58 Lisp powered ChucK : Cisp\n",
      "59 Playing Cascade, a custom made software that turns graphic rules into sound\n",
      "60 Csound and haskell + maybe some Elektron magic?\n",
      "61 vvvv + Hydra with some kind of accompanying audio\n",
      "62 tripped-out melodic tidal beats\n",
      "63 Sonic Pi exploration :)\n",
      "64 first stream ever = better-late-than-never foxdot bleep-blorp vibes\n",
      "65 Tidal/Punctual 10th birthday party sounds\n",
      "66 Supercollider synthdefs sequenced using TidalCycles, with web/JavaScript visuals.\n",
      "68 Low self-opinion livecoding rumble\n",
      "69 Untse-untse + spanish scale\n",
      "70 hard coding\n",
      "71 Coffee break w/sonic pi.\n",
      "73 Foxdot / battle against a non-AI random generative server\n",
      "74 Godti/Sema\n",
      "75 Ableton, Self-LaunchClips + Max4Live Basicness\n",
      "76 Unpredictable MIDI panic. Or possibly ambient generative analog synth. Who knows?\n",
      "77 Live Coding w/ Sonic Pi\n",
      "78 Touched by Brazil (Orca beats)\n",
      "79 Livecoded Ragas / Sonic Pi\n",
      "80 Live code, Real time Color trails\n",
      "81 True Tales : Tales of Ten : SonicPi/LivecodeLab/Poetry/Others\n",
      "82 Gabber and Breakcore with ORCA\n",
      "83 Algoravin' Broken Techno with Supercollider\n",
      "85 pilot orca\n",
      "87 Something strange and possibly hearing loss inducing using hardware synths and TidalCycles\n",
      "88 TidalCycles\n",
      "89 hydra.js / Sonic pi / Orca / Dirtywave M8\n",
      "90 some suff ive been working on\n",
      "92 Noise // FoxDot // Synths // Hydra\n",
      "93 DJ with YouTube with Live Coding. First Try Experiment New Tools\n",
      "95 tidal cycles + hydra + max/msp\n",
      "96 Sonic Pi, Petal\n",
      "97 Tidalcycles\n",
      "98 Tidalcycles & guitar\n",
      "99 Tidal\n",
      "100 TidalCycles & Synths\n",
      "101 cyberwave x combosoft\n",
      "102 Tidalcycles\n",
      "103 TidalCycles + Modular Synth + TouchDesigner\n",
      "104 Solo Bass Sampled into TidalCycles\n",
      "105 Algorithmic dance music with TidalCycles\n",
      "106 Improvisation (Tidal + Max)\n",
      "107 Peruvian rockstar trying to be COOL (TidalCycles)\n",
      "109 TidalCycles/Hydra\n",
      "110 Hydra+FoxDot+More stuff\n",
      "111 Electronic Music, Techno, IDM with Tidal Cycles controlling Analog, Digital Synths and Modular\n",
      "113 orca / smol hardware synths\n",
      "114 nTexto > clases + patrones + sonidos con SC > Hydra\n",
      "115 Not sure\n",
      "116 An open jam for anyone to come and join\n",
      "117 Foxdot\n",
      "118 Diffracted-Cut-Up-Power-Glitch\n",
      "119 noise, drone, pulses, SuperCollider\n",
      "121 Live coding ensemble using Hydra / Orca / hybrid modular synths\n",
      "122 minimal noise\n",
      "123 lo-fi\n",
      "124 The Great Collapsing Hrung Disaster\n",
      "125 superCollider\n",
      "126 three girls from cyberspace, wearing space helmets, probably\n",
      "127 procedural arps & beats\n",
      "128 Tidal strikes again!\n",
      "129 Live coding and live looping with Sonic Pi\n",
      "130 Perform with Glicol: A graph-oriented live coding language written in Rust\n",
      "131 Spring cleaning with tidal cycles\n",
      "132 ????\n"
     ]
    }
   ],
   "source": [
    "languages = []\n",
    "j = 0\n",
    "for i in range(0, len(performances)):\n",
    "    if i not in outliers_idx:\n",
    "        info = performances[i][5]\n",
    "        print(i, info)\n",
    "        languages.append([i, j, info])\n",
    "        j = j + 1"
   ]
  },
  {
   "cell_type": "markdown",
   "id": "66851c94",
   "metadata": {},
   "source": [
    "# Retrieved and analysis indices\n",
    "- Get video links to the Internet Archive"
   ]
  },
  {
   "cell_type": "code",
   "execution_count": 15,
   "id": "280f601a",
   "metadata": {},
   "outputs": [
    {
     "name": "stdout",
     "output_type": "stream",
     "text": [
      "[0, 0, 'UFORAVE!QUICKLY :: from neural network poison swamp to game boy(girl) supercollider supercatastrophe']\n",
      "pulu -- https://archive.org/download/algorave-10-pulu/be28cb5a-06a0-4658-a467-125c8b7ed3fb-20-Mar-22-20-50-19.mp4\n",
      "========================\n",
      "[1, 1, 'Wonky beats and broken synths']\n",
      "Shelly knotts -- https://archive.org/download/algorave-10-shelly-knotts/0a3d99f1-d093-474c-8e37-9c9e16e87c58-20-Mar-22-20-40-21.mp4\n",
      "========================\n",
      "[2, 2, 'Some patterns']\n",
      "Yaxu -- https://archive.org/download/algorave-10-yaxu/cf0cc75b-bb1e-46f9-85bf-fe53b28ae49c-20-Mar-22-20-30-13.mp4\n",
      "========================\n",
      "[3, 3, 'lofi algorithmic sequencer and a load of synths followed by some crashing SuperCollider code :)']\n",
      "YEE-KING -- https://archive.org/download/algorave-10-yee-king/f0aef102-5c5f-4207-a6ac-588080e10430-20-Mar-22-20-20-14.mp4\n",
      "========================\n",
      "[4, 4, 'Beats de la montaña']\n",
      "Rafrobeat -- https://ia601406.us.archive.org/18/items/algorave-10-rafrobeat/84377818-169a-48e3-b927-8666966bc1d6-20-Mar-22-20-10-20.mp4\n",
      "========================\n",
      "[5, 5, 'TidalCycles + SuperCollider']\n",
      "Chris Lambie-Hanson -- https://archive.org/download/algorave-10-chris-lambie-hanson/63be00ee-2348-4e5b-8359-9ffa5f107437-20-Mar-22-20-00-13.mp4\n",
      "========================\n",
      "[7, 6, 'foxdot + orca']\n",
      "smosgasbord -- https://archive.org/download/algorave-10-smosgasbord/2379b793-38f3-4612-9cd6-e3b1d69b5d60-20-Mar-22-19-40-38.mp4\n",
      "========================\n",
      "[8, 7, \"Everyone's friend Calum Gunn off the top rope, back from early parenthood to play Music Online\"]\n",
      "Calum Gunn -- https://ia801409.us.archive.org/1/items/algorave-10-calum-gunn/44eb3658-7b7e-458e-882d-53814488a38c-20-Mar-22-19-30-17.mp4\n",
      "========================\n",
      "[9, 8, 'symbiotic beats / machine listening (SC3) control of live coding (Tidal) with some help from Python']\n",
      "aucotsi -- https://archive.org/download/algorave-10-aucotsi/106d8d6f-7700-442d-adf1-ca09a65b6d29-20-Mar-22-19-20-25.mp4\n",
      "========================\n",
      "[10, 9, 'AlgaLib/eration']\n",
      "tedthetrumpet -- https://archive.org/download/algorave-10-tedthetrumpet/62514e25-70ad-4a73-aa52-11972d8dc5a9-20-Mar-22-19-10-16.mp4\n",
      "========================\n",
      "[11, 10, 'SuperCollider / Recursion / Choatic / Semi-Repititions']\n",
      "Tijs Ham / Tapage -- https://archive.org/download/algorave-10-tijs-ham---tapage/1ac87f55-b5b2-4169-9714-5d78232dbcd5-20-Mar-22-19-00-08.mp4\n",
      "========================\n",
      "[12, 11, 'algo-ukg']\n",
      "ritchse -- https://archive.org/download/algorave-10-ritchse/7db00509-7509-47c6-a885-bd18bc5e80d0-20-Mar-22-18-50-35.mp4\n",
      "========================\n",
      "[13, 12, 'Some kind of krautrock with TC']\n",
      "Pondskater -- https://archive.org/download/algorave-10-pondskater/592db513-aab4-490b-8955-2087613e335a-20-Mar-22-18-40-16.mp4\n",
      "========================\n",
      "[14, 13, 'Fun_with_swing']\n",
      "Dago Sondervan -- https://archive.org/download/algorave-10-dago-sondervan/b6e4b346-cb60-4d33-9450-ffa9b26fc18f-20-Mar-22-18-30-20.mp4\n",
      "========================\n",
      "[15, 14, 'distributed live coding performance using https://c0l1v3.bgo.la/']\n",
      "Bruno Gola -- https://archive.org/download/algorave-10-bruno-gola/3d739b03-9b7e-4dcc-ad80-2fd1c0b068d1-20-Mar-22-18-20-18.mp4\n",
      "========================\n",
      "[16, 15, \"Don't let the music distract you from the emojis\"]\n",
      "kindohm -- https://archive.org/download/algorave-10-kindohm/70a4803a-2093-4864-9136-e009ad92e40f-20-Mar-22-18-10-20.mp4\n",
      "========================\n",
      "[17, 16, 'event related potential / clickwork / tidalcycles with fx']\n",
      "Geranienduenger -- https://archive.org/download/algorave-10-geranienduenger/8089a901-fe40-4ea6-970f-cdbb71015f43-20-Mar-22-17-50-15.mp4\n",
      "========================\n",
      "[18, 17, 'undefined']\n",
      "Timo Hoogland -- https://archive.org/download/algorave-10-timo-hoogland/dad26755-ec04-4759-8221-6e853f359778-20-Mar-22-17-40-17.mp4\n",
      "========================\n",
      "[19, 18, 'Improvised from scratch Techno infused with Berliner rave spirit made with TidalCycles and SuperCollider, visuals in Hydra.']\n",
      "Alexandra Cardenas -- https://archive.org/download/algorave-10-alexandra-cardenas/0312f34d-855d-4cba-aac6-25df64d722e3-20-Mar-22-17-30-10.mp4\n",
      "========================\n",
      "[20, 19, 'trying out some things with tidal']\n",
      "polymorphic engine -- https://archive.org/download/algorave-10-polymorphic-engine/ce272108-d8b5-480f-a900-f7c57da30bdd-20-Mar-22-17-20-16.mp4\n",
      "========================\n",
      "[21, 20, 'beats and sounds with SuperCollider']\n",
      "Blaž Pavlica -- https://archive.org/download/algorave-10-blaz-pavlica/18adc3b6-61f5-487c-96ee-1102698aff18-20-Mar-22-17-10-19.mp4\n",
      "========================\n",
      "[22, 21, 'Khipumancer (+ the Neokhipukamayoq Manifesto)']\n",
      "Paola Torres Núñez del Prado -- https://archive.org/download/algorave-10-paola-torres-nunez-del-prado/d1df3906-dfa5-4fd7-ba8e-d32935419006-20-Mar-22-17-00-04.mp4\n",
      "========================\n",
      "[23, 22, 'TWN Botcore']\n",
      "SOMEHOAX -- https://archive.org/download/algorave-10-somehoax/0452825b-ba6c-4074-b9e0-76820eba9d22-20-Mar-22-16-50-23.mp4\n",
      "========================\n",
      "[24, 23, 'Subaquatic live-coding and analog visuals']\n",
      "Ralt144MI -- https://archive.org/download/algorave-10-ralt144mi/979bf33c-ae2f-403a-abd3-4d59b83632cc-20-Mar-22-16-40-12.mp4\n",
      "========================\n",
      "[25, 24, 'using soundb0ard // https://github.com/sideb0ard/SoundB0ard']\n",
      "Thorsten Sideboard -- https://archive.org/download/algorave-10-thorsten-sideboard/b7de44b6-4bfe-4ea7-8c41-750c099c9aa0-20-Mar-22-16-30-17.mp4\n",
      "========================\n",
      "[26, 25, '(a)live computing dance']\n",
      "compudanzas -- https://archive.org/download/algorave-10-compudanzas/ed1a4057-365a-4e26-acd8-b6931e9b9034-20-Mar-22-16-20-18-merged.mp4\n",
      "========================\n",
      "[27, 26, 'cinging (coding + singing)']\n",
      "raia -- https://archive.org/download/algorave-10-raia/26279ad3-0de8-470d-a90a-9264baae6122-20-Mar-22-16-10-16-merged.mp4\n",
      "========================\n",
      "[28, 27, 'a DIY guitar + synths + flock']\n",
      "OpenGuitar -- https://archive.org/download/algorave-10-openguitar/c5f76dbb-f84a-49b0-990b-18b00b3d83e5-20-Mar-22-16-00-18.mp4\n",
      "========================\n",
      "[29, 28, 'etheric birthday loop meditations in tidal + hydra']\n",
      "ali.champlin + cymatiste -- https://archive.org/download/algorave-10-ali-champlin---cymatiste/bad34564-2a98-4fc2-9158-9da1ed4c8f0f-20-Mar-22-15-50-05.mp4\n",
      "========================\n",
      "[30, 29, \"'PyTouch'\"]\n",
      "MateB -- https://archive.org/download/algorave-10-mateb/108d590c-d51c-480a-9be2-4e2e90713974-20-Mar-22-15-40-11.mp4\n",
      "========================\n",
      "[32, 30, 'live and coding']\n",
      "Naoto Hieda & Flor de Fuego -- https://archive.org/download/algorave-10-naoto-hieda---flor-de-fuego/a5ce130a-7599-4367-9a6f-0f8c9b004162-20-Mar-22-15-20-05.mp4\n",
      "========================\n",
      "[33, 31, 'live drawing + hydra + maybe freesound or maybe not']\n",
      "olivia jack -- https://archive.org/download/algorave-10-olivia-jack/77348b3c-802f-40a6-8b25-1657fc5155a5-20-Mar-22-15-10-15.mp4\n",
      "========================\n",
      "[34, 32, 'i love sonicPI']\n",
      "hmgk -- https://archive.org/download/algorave-10-hmgk/92b137d3-4dac-46fb-8f02-80d97f0fbd56-20-Mar-22-15-00-18.mp4\n",
      "========================\n",
      "[35, 33, 'BBScar (FoxDot)']\n",
      "PitchGlitch -- https://archive.org/download/algorave-10-pitchglitch/5231fcb2-5009-439e-8067-8b6fa3508a34-20-Mar-22-14-50-20.mp4\n",
      "========================\n",
      "[36, 34, 'Tidalcycles / TouchDesigner and openFrameworks visials']\n",
      "moistpeace -- https://archive.org/download/algorave-10-moistpeace/0453944c-3514-4449-8d17-d8ed2f6be334-20-Mar-22-14-30-19-merged.mp4\n",
      "========================\n",
      "[37, 35, 'Livecoding with TidalCycles & TouchDesigner.']\n",
      "Atsushi Tadokoro -- https://archive.org/download/algorave-10-atsushi-tadokoro/c4239442-4ee2-4172-b958-656ae8d54040-20-Mar-22-14-20-14.mp4\n",
      "========================\n",
      "[38, 36, 'My first Livecoding performance using Strudel REPL, which runs new tidal js implementation: https://strudel.tidalcycles.org/']\n",
      "froos -- https://archive.org/download/algorave-10-froos/a24f4652-39f9-4597-b632-79f51d5eb743-20-Mar-22-14-10-47.mp4\n",
      "========================\n",
      "[39, 37, 'EverySongIOwn making music using neural networks and entire teenage music collection. https://soundcloud.com/skatterbrainz/everysongiown-v3']\n",
      "Louis McCallum -- https://archive.org/download/algorave-10-louis-mccallum/f37de559-6361-4510-9e4f-9b0d1c98f01d-20-Mar-22-14-00-11.mp4\n",
      "========================\n",
      "[41, 38, 'tidalcycles_touchdesigner']\n",
      "farmernojo_ -- https://archive.org/download/algorave-10-farmernojo-/48a15673-aa70-4d8a-91b4-9cfc2a724c40-20-Mar-22-13-40-20.mp4\n",
      "========================\n",
      "[42, 39, 'Indian Dance Music, Irregular Dance Music, or Irrelevant Dance Music']\n",
      "Khoparzi -- https://archive.org/download/algorave-10-khoparzi/d6c79d62-2840-465c-be7f-73e6033e3ed7-20-Mar-22-13-30-28.mp4\n",
      "========================\n",
      "[43, 40, 'TidalCycles + Drum Machines + Hardware Synths + Hydra']\n",
      "Alienated Entity -- https://archive.org/download/algorave-10-alienated-entity/0e944b64-5f30-49cd-96c8-a48a817e331c-20-Mar-22-13-20-34.mp4\n",
      "========================\n",
      "[44, 41, 'TidalCycles']\n",
      "Yude -- https://archive.org/download/algorave-10-yude/a620d308-2dca-47b6-83db-881b9af275b4-20-Mar-22-13-10-21.mp4\n",
      "========================\n",
      "[45, 42, \"I'm bad at writing descriptions\"]\n",
      "Antonio Roberts -- https://archive.org/download/algorave-10-antonio-roberts/2aa7ea7f-6c80-4d0f-b53b-7773cdc55fc8-20-Mar-22-13-00-13.mp4\n",
      "========================\n",
      "[46, 43, '#algoclassical #algolectro #codeDJ #tidalcycles']\n",
      "nuelmyr -- https://archive.org/download/algorave-10-nuelmyr/8a8015f3-208a-400c-9e0f-04dae76d72b5-20-Mar-22-12-50-13.mp4\n",
      "========================\n",
      "[47, 44, 'Performance with SonicPi and MIDI controller']\n",
      "Lactoice -- https://archive.org/download/algorave-10-lactoice/70c480c6-ac45-4a8d-ab51-714fb30e45b1-20-Mar-22-12-30-30.mp4\n",
      "========================\n",
      "[48, 45, 'SonicPi Live coding Acid Techno']\n",
      "Niko_14 -- https://archive.org/download/algorave-10-niko-14/e66646f9-c720-4eab-85f4-a172488e4b65-20-Mar-22-12-20-13.mp4\n",
      "========================\n",
      "[49, 46, 'SonicPi + orca']\n",
      "Nerumae -- https://archive.org/download/algorave-10-nerumae/bf9c6e32-e26c-4532-a477-b64355839bdd-20-Mar-22-12-10-18.mp4\n",
      "========================\n",
      "[50, 47, 'Orca beats + Veda visuals : bentnoise on Insta']\n",
      "Bent Noise -- https://archive.org/download/algorave-10-bent-noise/5a5ed69b-aab5-4ef6-9bd0-2a2fe1b6457f-20-Mar-22-12-00-20.mp4\n",
      "========================\n",
      "[51, 48, 'incoherent electronic garbage']\n",
      "Nolram -- https://archive.org/download/algorave-10-nolram/78ac82db-b793-4966-90f2-c412b71486cf-20-Mar-22-11-50-15.mp4\n",
      "========================\n",
      "[52, 49, 'microtuned modal music with ORCA and folderkit']\n",
      "nonmateria -- https://archive.org/download/algorave-10-nonmateria/28ff479e-c8d8-4e64-8bcc-3470aed32f96-20-Mar-22-11-30-16.mp4\n",
      "========================\n",
      "[53, 50, 'Bzz bzzs, blip blops, and other awful sounds with TidalCycles and SuperCollider']\n",
      "Return_Nihil -- https://archive.org/download/algorave-10-return-nihil/46d253cf-92c9-4ac9-ac04-408b096f98e9-20-Mar-22-11-20-14.mp4\n",
      "========================\n",
      "[54, 51, 'supercollider and kemence']\n",
      "Montague -- https://archive.org/download/algorave-10-montague/16e29c8b-d2b3-4183-8d6c-6cc2faf9fb3b-20-Mar-22-11-10-16.mp4\n",
      "========================\n",
      "[55, 52, 'Foxdot']\n",
      "NeirdaP -- https://archive.org/download/algorave-10-neirdap/6803e31c-ba7d-4a62-b06e-579f8866f7cf-20-Mar-22-11-00-29.mp4\n",
      "========================\n",
      "[56, 53, 'Some strange loops']\n",
      "ShaiR -- https://archive.org/download/algorave-10-shair/55209664-6a30-4cfa-95ea-66ce7aff7060-20-Mar-22-10-50-13.mp4\n",
      "========================\n",
      "[57, 54, 'newbie making breakbeaty things on sonic pi']\n",
      "aldroid -- https://archive.org/download/algorave-10-aldroid/ca5f507c-cb13-42e3-918b-97fd760527ae-20-Mar-22-10-40-19.mp4\n",
      "========================\n",
      "[58, 55, 'Lisp powered ChucK : Cisp']\n",
      "Casper Schipper -- https://archive.org/download/algorave-10-casper-schipper/dbc958b2-111e-4a12-ae93-4c7242c6c0cf-20-Mar-22-10-30-01.mp4\n",
      "========================\n",
      "[59, 56, 'Playing Cascade, a custom made software that turns graphic rules into sound']\n",
      "Raphaël Bastide -- https://archive.org/download/algorave-10-raphael-bastide/887ed18f-8b32-4a6d-9561-4bae92cf4f40-20-Mar-22-10-20-10.mp4\n",
      "========================\n",
      "[60, 57, 'Csound and haskell + maybe some Elektron magic?']\n",
      "Leo Foletto -- https://archive.org/download/algorave-10-leo-foletto/989e39a0-9bba-46ca-b605-27ea67f590c0-20-Mar-22-10-10-20.mp4\n",
      "========================\n",
      "[61, 58, 'vvvv + Hydra with some kind of accompanying audio']\n",
      "boomerangtrotter -- https://archive.org/download/algorave-10-boomerangtrotter/c8616396-f339-463c-85cf-0bcb370c20eb-20-Mar-22-10-00-19.mp4\n",
      "========================\n",
      "[62, 59, 'tripped-out melodic tidal beats']\n",
      "inciampati -- https://archive.org/download/algorave-10-inciampati/49b7e85f-fa07-49d0-b11d-ecf32a8f346a-20-Mar-22-09-50-18.mp4\n",
      "========================\n",
      "[63, 60, 'Sonic Pi exploration :)']\n",
      "[MONRHEA] -- https://archive.org/download/algorave-10--monrhea-/7c694ca8-39ab-456a-9923-26210ad02e55-20-Mar-22-09-40-14-merged.mp4\n",
      "========================\n",
      "[64, 61, 'first stream ever = better-late-than-never foxdot bleep-blorp vibes']\n",
      "hc>>mc -- https://archive.org/download/algorave-10-hc--mc/cdc92750-da5c-4cf6-832b-1a5fd87149d6-20-Mar-22-09-30-13.mp4\n",
      "========================\n",
      "[65, 62, 'Tidal/Punctual 10th birthday party sounds']\n",
      "cleary (Bernard Gray) -- https://archive.org/download/algorave-10-cleary--bernard-gray-/66122692-c880-430a-96ce-43ea98acd942-20-Mar-22-09-20-40.mp4\n",
      "========================\n",
      "[66, 63, 'Supercollider synthdefs sequenced using TidalCycles, with web/JavaScript visuals.']\n",
      "Captain Concern -- https://archive.org/download/algorave-10-captain-concern/07a78d10-2adf-4503-95a8-aee670e040ba-20-Mar-22-09-10-20.mp4\n",
      "========================\n",
      "[68, 64, 'Low self-opinion livecoding rumble']\n",
      "u-mano u-dito -- https://archive.org/download/algorave-10-u-mano-u-dito/9dae1449-3d37-49f5-81cb-4b2faebfac7b-20-Mar-22-08-50-20.mp4\n",
      "========================\n",
      "[69, 65, 'Untse-untse + spanish scale']\n",
      "th4 -- https://archive.org/download/algorave-10-th4/819de8c5-8a01-4f86-9b98-42e4614add02-20-Mar-22-08-40-17.mp4\n",
      "========================\n",
      "[70, 66, 'hard coding']\n",
      "assembly -- https://archive.org/download/algorave-10-assembly/7a8f54c6-6624-419a-9398-1002529ce403-20-Mar-22-08-30-12.mp4\n",
      "========================\n",
      "[71, 67, 'Coffee break w/sonic pi.']\n",
      "Photocopied_Money -- https://archive.org/download/algorave-10-photocopied-money/6dcf126a-3321-47e2-80ce-1a00f42573a4-20-Mar-22-08-20-12.mp4\n",
      "========================\n",
      "[73, 68, 'Foxdot / battle against a non-AI random generative server']\n",
      "CrashServer -- https://archive.org/download/algorave-10-crashserver/3a1b7663-e547-419c-8849-aa6a8d6534e9-20-Mar-22-08-00-11.mp4\n",
      "========================\n",
      "[74, 69, 'Godti/Sema']\n",
      "Luuma -- https://archive.org/download/algorave-10-luuma/957d0d5e-81ce-4206-a109-9f3821904eea-20-Mar-22-07-40-18.mp4\n",
      "========================\n",
      "[75, 70, 'Ableton, Self-LaunchClips + Max4Live Basicness']\n",
      "LostArchitectures -- https://archive.org/download/algorave-10-lostarchitectures/3bf1fac0-1395-4bb9-9e4d-e1bb6bf3cb80-20-Mar-22-07-30-15.mp4\n",
      "========================\n",
      "[76, 71, 'Unpredictable MIDI panic. Or possibly ambient generative analog synth. Who knows?']\n",
      "Falls the Shadow -- https://archive.org/download/algorave-10-falls-the-shadow/1c50a2b5-3ec7-4601-bb73-897324513f4f-20-Mar-22-07-20-16.mp4\n",
      "========================\n",
      "[77, 72, 'Live Coding w/ Sonic Pi']\n",
      "alsoknownasrox -- https://archive.org/download/algorave-10-alsoknownasrox/a96c5df8-4d52-4803-8401-8eb72abd2d70-20-Mar-22-07-10-19.mp4\n",
      "========================\n",
      "[78, 73, 'Touched by Brazil (Orca beats)']\n",
      "magfoto -- https://archive.org/download/algorave-10-magfoto/8d10c79a-a2d2-4ca8-8ac7-5ae1b41374d0-20-Mar-22-07-00-20.mp4\n",
      "========================\n",
      "[79, 74, 'Livecoded Ragas / Sonic Pi']\n",
      "Nanditi -- https://archive.org/download/algorave-10-nanditi/c58fc812-3427-4b16-ae09-7f7464ad2317-20-Mar-22-06-50-13.mp4\n",
      "========================\n",
      "[80, 75, 'Live code, Real time Color trails']\n",
      "Jasan Sangma -- https://archive.org/download/algorave-10-jasan-sangma/f6f0856a-beaa-42e2-a965-57a62c4d0a03-20-Mar-22-06-40-08.mp4\n",
      "========================\n",
      "[81, 76, 'True Tales : Tales of Ten : SonicPi/LivecodeLab/Poetry/Others']\n",
      "Illestpreacha -- https://archive.org/download/algorave-10-illestpreacha/4e1af752-4487-4ad0-b1a4-5bf8aba5e541-20-Mar-22-06-20-13.mp4\n",
      "========================\n",
      "[82, 77, 'Gabber and Breakcore with ORCA']\n",
      "Alicef -- https://archive.org/download/algorave-10-alicef/44f43e2e-f4dc-4cfa-b781-ba7539c7113f-20-Mar-22-06-10-14.mp4\n",
      "========================\n",
      "[83, 78, \"Algoravin' Broken Techno with Supercollider\"]\n",
      "josecaos -- https://archive.org/download/algorave-10-josecaos/481315e0-4bf0-44d5-a0d7-07df84898d66-20-Mar-22-06-00-32.mp4\n",
      "========================\n",
      "[85, 79, 'pilot orca']\n",
      "beatnyk -- https://archive.org/download/algorave-10-beatnyk/5983d9b6-29f6-4b6b-a703-3a9113eec841-20-Mar-22-05-40-29.mp4\n",
      "========================\n",
      "[87, 80, 'Something strange and possibly hearing loss inducing using hardware synths and TidalCycles']\n",
      "17.2m -- https://archive.org/download/algorave-10-17-2m/378676d6-34f7-44f2-b040-1f356c955b89-20-Mar-22-05-10-12.mp4\n",
      "========================\n",
      "[88, 81, 'TidalCycles']\n",
      "Andrew Malilay White -- https://archive.org/download/algorave-10-andrew-malilay-white/2f6c0e53-84e6-42fa-b70c-a5b24cc05691-20-Mar-22-05-00-17.mp4\n",
      "========================\n",
      "[89, 82, 'hydra.js / Sonic pi / Orca / Dirtywave M8']\n",
      "Mark DeNardo / MDN -- https://archive.org/download/algorave-10-mark-denardo---mdn/320b155a-182d-468b-bdfd-e33acb34ac8a-20-Mar-22-04-40-12.mp4\n",
      "========================\n",
      "[90, 83, 'some suff ive been working on']\n",
      "\"c_robo_\" -- https://archive.org/download/algorave-10--c-robo--/da053250-95d4-40b9-9975-b0721f1b6b7b-20-Mar-22-04-30-15.mp4\n",
      "========================\n",
      "[92, 84, 'Noise // FoxDot // Synths // Hydra']\n",
      "Messica Arson -- https://archive.org/download/algorave-10-messica-arson/611bc6a8-3ca8-4471-9938-f19e245f36b5-20-Mar-22-04-10-15.mp4\n",
      "========================\n",
      "[93, 85, 'DJ with YouTube with Live Coding. First Try Experiment New Tools']\n",
      "bahtera.rar -- https://archive.org/download/algorave-10-bahtera-rar/bacfb6ce-1117-4749-a8b1-1c32250dd185-20-Mar-22-04-00-17.mp4\n",
      "========================\n",
      "[95, 86, 'tidal cycles + hydra + max/msp']\n",
      "c-liminal -- https://archive.org/download/algorave-10-c-liminal/851a369b-5ba0-4b96-b05d-3e66c6de69c8-20-Mar-22-03-40-39.mp4\n",
      "========================\n",
      "[96, 87, 'Sonic Pi, Petal']\n",
      "kn1kn1 -- https://archive.org/download/algorave-10-kn1kn1/cd667f9b-a788-4e02-8e1b-6b3f9e6af7fd-20-Mar-22-03-30-18.mp4\n",
      "========================\n",
      "[97, 88, 'Tidalcycles']\n",
      "Ángel Jara -- https://archive.org/download/algorave-10-angel-jara/243328c5-efee-4426-bed0-b7b5c477ca43-20-Mar-22-03-20-21.mp4\n",
      "========================\n",
      "[98, 89, 'Tidalcycles & guitar']\n",
      "Ezra -- https://archive.org/download/algorave-10-ezra/4175d9c5-e154-4192-9191-5d15a58cb1a5-20-Mar-22-03-10-30.mp4\n",
      "========================\n",
      "[99, 90, 'Tidal']\n",
      "bgold -- https://archive.org/download/algorave-10-bgold/33b6ff18-65bf-44ed-b93d-28f629909403-20-Mar-22-03-00-27.mp4\n",
      "========================\n",
      "[100, 91, 'TidalCycles & Synths']\n",
      "redes de nadie -- https://archive.org/download/algorave-10-redes-de-nadie/3ddd6283-6495-4431-8ee5-c6264d5b2b36-20-Mar-22-02-50-14.mp4\n",
      "========================\n",
      "[101, 92, 'cyberwave x combosoft']\n",
      "a f a l f l -- https://archive.org/download/algorave-10-a-f-a-l-f-l/3abc9e72-a411-4641-8f96-84c1287158e1-20-Mar-22-02-40-35.mp4\n",
      "========================\n",
      "[102, 93, 'Tidalcycles']\n",
      "treethought -- https://archive.org/download/algorave-10-treethought/123694ce-a935-48cd-a476-df8ef8f57696-20-Mar-22-02-30-17.mp4\n",
      "========================\n",
      "[103, 94, 'TidalCycles + Modular Synth + TouchDesigner']\n",
      "Phages -- https://archive.org/download/algorave-10-phages/bd196147-ee86-4727-924f-88f2301ed220-20-Mar-22-02-20-58.mp4\n",
      "========================\n",
      "[104, 95, 'Solo Bass Sampled into TidalCycles']\n",
      "Carl Testa -- https://archive.org/download/algorave-10-carl-testa/8aacf843-4780-4881-8729-acae6c6d85db-20-Mar-22-02-10-17.mp4\n",
      "========================\n",
      "[105, 96, 'Algorithmic dance music with TidalCycles']\n",
      "R Tyler -- https://archive.org/download/algorave-10-r-tyler/d4b6deea-624b-4c31-ab48-e46933febe97-20-Mar-22-02-00-35.mp4\n",
      "========================\n",
      "[106, 97, 'Improvisation (Tidal + Max)']\n",
      "BSBLOrk / euFraktus X -- https://archive.org/download/algorave-10-bsblork---eufraktus-x/04c5185b-ed0e-4b67-b987-2b37be4c39b1-20-Mar-22-01-50-16.mp4\n",
      "========================\n",
      "[107, 98, 'Peruvian rockstar trying to be COOL (TidalCycles)']\n",
      "holafaviorojas -- https://archive.org/download/algorave-10-holafaviorojas/daf39b49-9b3f-478e-bc89-3023af4782d6-20-Mar-22-01-40-33.mp4\n",
      "========================\n",
      "[109, 99, 'TidalCycles/Hydra']\n",
      "Renzo Rospigliosi -- https://archive.org/download/algorave-10-renzo-rospigliosi/5c4debb5-a0b6-441d-bb21-e426b5cdcb9a-20-Mar-22-01-10-15.mp4\n",
      "========================\n",
      "[110, 100, 'Hydra+FoxDot+More stuff']\n",
      "Santiago Ramírez Camarena -- https://archive.org/download/algorave-10-santiago-ramirez-camarena/f169f5a5-bb72-4b3e-beb2-96f76243812a-20-Mar-22-01-00-19-merged.mp4\n",
      "========================\n",
      "[111, 101, 'Electronic Music, Techno, IDM with Tidal Cycles controlling Analog, Digital Synths and Modular']\n",
      "Lenny Foret -- https://archive.org/download/algorave-10-lenny-foret/8ddf5285-dcca-4cd3-886a-481d5925b7eb-20-Mar-22-00-50-18.mp4\n",
      "========================\n",
      "[113, 102, 'orca / smol hardware synths']\n",
      "@crcdng -- https://archive.org/download/algorave-10--crcdng/fa3aee4a-70f6-4623-8a6a-4c24bd6e01f6-20-Mar-22-00-20-19.mp4\n",
      "========================\n",
      "[114, 103, 'nTexto > clases + patrones + sonidos con SC > Hydra']\n",
      "h3v -- https://archive.org/download/algorave-10-h3v/16a5ce86-fdaa-4252-8105-d5b2d5278a9b-20-Mar-22-00-10-17.mp4\n",
      "========================\n",
      "[115, 104, 'Not sure']\n",
      "Unrznbl -- https://archive.org/download/algorave-10-unrznbl/034d8af3-d208-47d7-bdf7-99001fca5e60-20-Mar-22-00-00-14.mp4\n",
      "========================\n",
      "[116, 105, 'An open jam for anyone to come and join']\n",
      "Equinox Open Jam -- https://archive.org/download/algorave-10-equinox-open-jam/c281645b-ccc7-4bba-9e22-3fc1fba82d90-19-Mar-22-23-40-45.mp4\n",
      "========================\n",
      "[117, 106, 'Foxdot']\n",
      "Gambit -- https://archive.org/download/algorave-10-gambit/80ab67d7-7e07-4e1f-8ac0-afe5c7df004f-19-Mar-22-23-30-13.mp4\n",
      "========================\n",
      "[118, 107, 'Diffracted-Cut-Up-Power-Glitch']\n",
      "nervousdata -- https://archive.org/download/algorave-10-nervousdata/651fa91b-a5c7-4775-bc3f-aaa2b4bf0027-19-Mar-22-23-20-13.mp4\n",
      "========================\n",
      "[119, 108, 'noise, drone, pulses, SuperCollider']\n",
      "Luka Prinčič -- https://archive.org/download/algorave-10-luka-princic/6779ef86-e87b-45d2-acd6-2130540aaaba-19-Mar-22-23-10-11.mp4\n",
      "========================\n",
      "[121, 109, 'Live coding ensemble using Hydra / Orca / hybrid modular synths']\n",
      "Endemics (cymatiste, hryso, kavi, magfoto) -- https://archive.org/download/algorave-10-endemics--cymatiste--hryso--kavi--magfoto-/7b7c51dd-cb6c-4892-b06e-83342b853af1-19-Mar-22-22-50-10.mp4\n",
      "========================\n",
      "[122, 110, 'minimal noise']\n",
      "Anna Xambó -- https://archive.org/download/algorave-10-anna-xambo/2ecb03ec-8b3c-4c97-b7d3-e3c19eaa38a0-19-Mar-22-22-40-19.mp4\n",
      "========================\n",
      "[123, 111, 'lo-fi']\n",
      "0001 -- https://archive.org/download/algorave-10-0001/82a6c2e5-7fb2-456d-8438-e6406d260cd4-19-Mar-22-22-30-15.mp4\n",
      "========================\n",
      "[124, 112, 'The Great Collapsing Hrung Disaster']\n",
      "djalgoritmo -- https://archive.org/download/algorave-10-djalgoritmo/2b43d30a-c8c9-4799-8278-ca887fb69482-19-Mar-22-22-20-06.mp4\n",
      "========================\n",
      "[125, 113, 'superCollider']\n",
      "redFrik -- https://archive.org/download/algorave-10-redfrik/47de02cd-cc11-445a-b001-08b9321a693e-19-Mar-22-22-10-19.mp4\n",
      "========================\n",
      "[126, 114, 'three girls from cyberspace, wearing space helmets, probably']\n",
      "Codie -- https://archive.org/download/algorave-10-codie/b8606508-6624-4e07-baa1-fa12a47cb298-19-Mar-22-22-00-20.mp4\n",
      "========================\n",
      "[127, 115, 'procedural arps & beats']\n",
      "polinski -- https://archive.org/download/algorave-10-polinski/e709e889-3a54-43ff-b2b2-15600d69d5af-19-Mar-22-21-50-20.mp4\n",
      "========================\n",
      "[128, 116, 'Tidal strikes again!']\n",
      "Bubobubo -- https://archive.org/download/algorave-10-bubobubo/62b046b3-f6a0-4eb4-96ec-ad5de2246b3f-19-Mar-22-21-40-18.mp4\n",
      "========================\n",
      "[129, 117, 'Live coding and live looping with Sonic Pi']\n",
      "Melody Loveless -- https://archive.org/download/algorave-10-melody-loveless/fbfa57c9-6304-4f06-8bfb-88e7544d0fc1-19-Mar-22-21-30-00.mp4\n",
      "========================\n",
      "[130, 118, 'Perform with Glicol: A graph-oriented live coding language written in Rust']\n",
      "Qichao Lan (chaosprint) -- https://archive.org/download/algorave-10-qichao-lan--chaosprint-/3d922a4e-6815-4115-aba4-c870fa0f01bc-19-Mar-22-21-20-14.mp4\n",
      "========================\n",
      "[131, 119, 'Spring cleaning with tidal cycles']\n",
      "Paul Channel Strip -- https://archive.org/download/algorave-10-paul-channel-strip/73cb683d-fed3-4653-a339-4f7ad7a1f79b-19-Mar-22-21-10-19.mp4\n",
      "========================\n",
      "[132, 120, '????']\n",
      "left_adjoint -- https://archive.org/download/algorave-10-left-adjoint/4321141d-cbc2-4ea6-b025-7bf005a24bdf-19-Mar-22-21-00-13.mp4\n",
      "========================\n"
     ]
    }
   ],
   "source": [
    "for elem in languages:\n",
    "    print(elem)\n",
    "    print(performances[elem[0]][0], '--', performances[elem[0]][3])\n",
    "    print('========================')"
   ]
  },
  {
   "cell_type": "markdown",
   "id": "13e9d096",
   "metadata": {},
   "source": [
    "# Annotations of performance systems"
   ]
  },
  {
   "cell_type": "code",
   "execution_count": 16,
   "id": "cdd5a509",
   "metadata": {},
   "outputs": [],
   "source": [
    "annotations = [\n",
    "[0, 0, 'UFORAVE!QUICKLY :: from neural network poison swamp to game boy(girl) supercollider supercatastrophe', ['SC3', 'Tidal']],\n",
    "[1, 1, 'Wonky beats and broken synths', ['SC3']],\n",
    "[2, 2, 'Some patterns', ['Tidal']],\n",
    "[3, 3, 'lofi algorithmic sequencer and a load of synths followed by some crashing SuperCollider code :)', ['SC3']],\n",
    "[4, 4, 'Beats de la montaña', ['Tidal']],\n",
    "[5, 5, 'TidalCycles + SuperCollider', ['SC3', 'Tidal']],\n",
    "[7, 6, 'foxdot + orca', ['Foxdot', 'Orca']],\n",
    "[8, 7, \"Everyone's friend Calum Gunn off the top rope, back from early parenthood to play Music Online\", ['Tidal', 'MAX/MSP']],\n",
    "[9, 8, 'symbiotic beats / machine listening (SC3) control of live coding (Tidal) with some help from Python', ['SC3', 'Tidal']],\n",
    "[10, 9, 'AlgaLib/eration', ['SC3']],\n",
    "[11, 10, 'SuperCollider / Recursion / Choatic / Semi-Repititions', ['SC3']],\n",
    "[12, 11, 'algo-ukg', ['Tidal']],\n",
    "[13, 12, 'Some kind of krautrock with TC', ['Tidal']],\n",
    "[14, 13, 'Fun_with_swing', ['Tidal']],\n",
    "[15, 14, 'distributed live coding performance using https://c0l1v3.bgo.la/', ['c0l1v3']],\n",
    "[16, 15, \"Don't let the music distract you from the emojis\", ['Tidal']],\n",
    "[17, 16, 'event related potential / clickwork / tidalcycles with fx', ['Tidal']],\n",
    "[18, 17, 'undefined', ['Unknown']],\n",
    "[19, 18, 'Improvised from scratch Techno infused with Berliner rave spirit made with TidalCycles and SuperCollider, visuals in Hydra.', ['Tidal', 'SC3']],\n",
    "[20, 19, 'trying out some things with tidal', ['Tidal']],\n",
    "[21, 20, 'beats and sounds with SuperCollider', ['SC3']],\n",
    "[22, 21, 'Khipumancer (+ the Neokhipukamayoq Manifesto)', ['Unknown']],\n",
    "[23, 22, 'TWN Botcore', ['Tidal']],\n",
    "[24, 23, 'Subaquatic live-coding and analog visuals', ['Tidal']],\n",
    "[25, 24, 'using soundb0ard // https://github.com/sideb0ard/SoundB0ard', ['SoundB0ard']],\n",
    "[26, 25, '(a)live computing dance', ['Unknown']],\n",
    "[27, 26, 'cinging (coding + singing)', ['Sonic Pi']],\n",
    "[28, 27, 'a DIY guitar + synths + flock', ['Tidal']],\n",
    "[29, 28, 'etheric birthday loop meditations in tidal + hydra', ['Tidal']],\n",
    "[30, 29, \"'PyTouch'\", ['Unknown']],\n",
    "[32, 30, 'live and coding', ['SC3']],\n",
    "[33, 31, 'live drawing + hydra + maybe freesound or maybe not', ['JS']],\n",
    "[34, 32, 'i love sonicPI', ['Sonic Pi']],\n",
    "[35, 33, 'BBScar (FoxDot)', ['FoxDot']],\n",
    "[36, 34, 'Tidalcycles / TouchDesigner and openFrameworks visials', ['Tidal']],\n",
    "[37, 35, 'Livecoding with TidalCycles & TouchDesigner.', ['Tidal']],\n",
    "[38, 36, 'My first Livecoding performance using Strudel REPL, which runs new tidal js implementation: https://strudel.tidalcycles.org/', ['Tidal']],\n",
    "[39, 37, 'EverySongIOwn making music using neural networks and entire teenage music collection. https://soundcloud.com/skatterbrainz/everysongiown-v3', ['Tidal']],\n",
    "[41, 38, 'tidalcycles_touchdesigner', ['Tidal']],\n",
    "[42, 39, 'Indian Dance Music, Irregular Dance Music, or Irrelevant Dance Music', ['Tidal']],\n",
    "[43, 40, 'TidalCycles + Drum Machines + Hardware Synths + Hydra', ['Tidal']],\n",
    "[44, 41, 'TidalCycles', ['Tidal']],\n",
    "[45, 42, \"I'm bad at writing descriptions\", ['Tidal']],\n",
    "[46, 43, '#algoclassical #algolectro #codeDJ #tidalcycles', ['Tidal']],\n",
    "[47, 44, 'Performance with SonicPi and MIDI controller', ['SonicPi']],\n",
    "[48, 45, 'SonicPi Live coding Acid Techno', ['SonicPi']],\n",
    "[49, 46, 'SonicPi + orca', ['Sonic Pi', 'Orca']],\n",
    "[50, 47, 'Orca beats + Veda visuals : bentnoise on Insta', ['Orca']],\n",
    "[51, 48, 'incoherent electronic garbage', ['Unknown']],\n",
    "[52, 49, 'microtuned modal music with ORCA and folderkit', ['Orca']],\n",
    "[53, 50, 'Bzz bzzs, blip blops, and other awful sounds with TidalCycles and SuperCollider', ['SC3', 'Tidal']],\n",
    "[54, 51, 'supercollider and kemence', ['SC3']],\n",
    "[55, 52, 'Foxdot', ['Foxdot']],\n",
    "[56, 53, 'Some strange loops', ['Tidal']],\n",
    "[57, 54, 'newbie making breakbeaty things on sonic pi', ['Sonic Pi']],\n",
    "[58, 55, 'Lisp powered ChucK : Cisp', ['Chuck', 'Lisp']],\n",
    "[59, 56, 'Playing Cascade, a custom made software that turns graphic rules into sound', ['Cascade']],\n",
    "[60, 57, 'Csound and haskell + maybe some Elektron magic?', ['CSound']],\n",
    "[61, 58, 'vvvv + Hydra with some kind of accompanying audio', ['Unknown']],\n",
    "[62, 59, 'tripped-out melodic tidal beats', ['Tidal']],\n",
    "[63, 60, 'Sonic Pi exploration :)', ['Sonic Pi']],\n",
    "[64, 61, 'first stream ever = better-late-than-never foxdot bleep-blorp vibes', ['Foxdot']],\n",
    "[65, 62, 'Tidal/Punctual 10th birthday party sounds', ['Tidal']],\n",
    "[66, 63, 'Supercollider synthdefs sequenced using TidalCycles, with web/JavaScript visuals.', ['SC3']],\n",
    "[68, 64, 'Low self-opinion livecoding rumble', ['Tidal']],\n",
    "[69, 65, 'Untse-untse + spanish scale', ['Tidal']],\n",
    "[70, 66, 'hard coding', ['Tidal', 'SC3']],\n",
    "[71, 67, 'Coffee break w/sonic pi.', ['Sonic Pi']],\n",
    "[73, 68, 'Foxdot / battle against a non-AI random generative server', ['Foxdot']],\n",
    "[74, 69, 'Godti/Sema', ['Sema', 'Godti']],\n",
    "[75, 70, 'Ableton, Self-LaunchClips + Max4Live Basicness', ['Ableton', 'MAX/MSP']],\n",
    "[76, 71, 'Unpredictable MIDI panic. Or possibly ambient generative analog synth. Who knows?', ['MAX/MSP']],\n",
    "[77, 72, 'Live Coding w/ Sonic Pi', ['Sonic Pi']],\n",
    "[78, 73, 'Touched by Brazil (Orca beats)', ['Orca']],\n",
    "[79, 74, 'Livecoded Ragas / Sonic Pi', ['Sonic Pi']],\n",
    "[80, 75, 'Live code, Real time Color trails', ['Unknown']],\n",
    "[81, 76, 'True Tales : Tales of Ten : SonicPi/LivecodeLab/Poetry/Others', ['Sonic Pi']],\n",
    "[82, 77, 'Gabber and Breakcore with ORCA', ['Orca']],\n",
    "[83, 78, \"Algoravin' Broken Techno with Supercollider\", ['SC3']],\n",
    "[85, 79, 'pilot orca', ['Orca']],\n",
    "[87, 80, 'Something strange and possibly hearing loss inducing using hardware synths and TidalCycles', ['Tidal']],\n",
    "[88, 81, 'TidalCycles', ['Tidal']],\n",
    "[89, 82, 'hydra.js / Sonic pi / Orca / Dirtywave M8', ['Sonic Pi', 'Orca']],\n",
    "[90, 83, 'some suff ive been working on', ['Tidal']],\n",
    "[92, 84, 'Noise // FoxDot // Synths // Hydra', ['Foxdot']],\n",
    "[93, 85, 'DJ with YouTube with Live Coding. First Try Experiment New Tools', ['Unknown', 'Youtube']],\n",
    "[95, 86, 'tidal cycles + hydra + max/msp', ['Tidal', 'MAX/MSP']],\n",
    "[96, 87, 'Sonic Pi, Petal', ['Sonic Pi']],\n",
    "[97, 88, 'Tidalcycles', ['Tidal']],\n",
    "[98, 89, 'Tidalcycles & guitar', ['Tidal']],\n",
    "[99, 90, 'Tidal', ['Tidal']],\n",
    "[100, 91, 'TidalCycles & Synths', ['Tidal']],\n",
    "[101, 92, 'cyberwave x combosoft', ['Tidal', 'Orca']],\n",
    "[102, 93, 'Tidalcycles', ['Tidal']],\n",
    "[103, 94, 'TidalCycles + Modular Synth + TouchDesigner', ['Tidal']],\n",
    "[104, 95, 'Solo Bass Sampled into TidalCycles', ['Tidal']],\n",
    "[105, 96, 'Algorithmic dance music with TidalCycles', ['Tidal']],\n",
    "[106, 97, 'Improvisation (Tidal + Max)', ['Tidal', 'MAX/MSP']],\n",
    "[107, 98, 'Peruvian rockstar trying to be COOL (TidalCycles)', ['Tidal']],\n",
    "[109, 99, 'TidalCycles/Hydra', ['Tidal']],\n",
    "[110, 100, 'Hydra+FoxDot+More stuff', ['Foxdot']],\n",
    "[111, 101, 'Electronic Music, Techno, IDM with Tidal Cycles controlling Analog, Digital Synths and Modular', ['Tidal']],\n",
    "[113, 102, 'orca / smol hardware synths', ['Orca']],\n",
    "[114, 103, 'nTexto > clases + patrones + sonidos con SC > Hydra', ['SC3']],\n",
    "[115, 104, 'Not sure', ['Unknown']],\n",
    "[116, 105, 'An open jam for anyone to come and join', ['Estuary']],\n",
    "[117, 106, 'Foxdot', ['Foxdot']],\n",
    "[118, 107, 'Diffracted-Cut-Up-Power-Glitch', ['Tidal']],\n",
    "[119, 108, 'noise, drone, pulses, SuperCollider', ['SC3']],\n",
    "[121, 109, 'Live coding ensemble using Hydra / Orca / hybrid modular synths', ['Orca']],\n",
    "[122, 110, 'minimal noise', ['SC3']],\n",
    "[123, 111, 'lo-fi', ['SC3']],\n",
    "[124, 112, 'The Great Collapsing Hrung Disaster', ['Tidal', 'SC3']],\n",
    "[125, 113, 'superCollider', ['SC3']],\n",
    "[126, 114, 'three girls from cyberspace, wearing space helmets, probably', ['Unknown']],\n",
    "[127, 115, 'procedural arps & beats', ['Unknown']],\n",
    "[128, 116, 'Tidal strikes again!', ['Tidal']],\n",
    "[129, 117, 'Live coding and live looping with Sonic Pi', ['Sonic Pi']],\n",
    "[130, 118, 'Perform with Glicol: A graph-oriented live coding language written in Rust', ['Glicol']],\n",
    "[131, 119, 'Spring cleaning with tidal cycles', ['Tidal']],\n",
    "[132, 120, '????', ['Tidal']]\n",
    "]"
   ]
  },
  {
   "cell_type": "code",
   "execution_count": 17,
   "id": "c2381ccd",
   "metadata": {},
   "outputs": [
    {
     "data": {
      "text/plain": [
       "121"
      ]
     },
     "execution_count": 17,
     "metadata": {},
     "output_type": "execute_result"
    }
   ],
   "source": [
    "len(annotations)"
   ]
  },
  {
   "cell_type": "code",
   "execution_count": 18,
   "id": "08ed258c",
   "metadata": {},
   "outputs": [
    {
     "name": "stdout",
     "output_type": "stream",
     "text": [
      "c0l1v3\n",
      "SoundB0ard\n",
      "JS\n",
      "Chuck\n",
      "Cascade\n",
      "CSound\n",
      "Sema\n",
      "Ableton\n",
      "Estuary\n",
      "Glicol\n"
     ]
    }
   ],
   "source": [
    "sc3 = 0\n",
    "tidal = 0\n",
    "sonic = 0\n",
    "foxdot = 0\n",
    "orca = 0\n",
    "maxmsp = 0\n",
    "unknown = 0\n",
    "all_lang_codes = []\n",
    "for elem in annotations:\n",
    "#     print(elem[-1][0])\n",
    "    tmp =  elem[-1][0]\n",
    "    if tmp == 'SC3':\n",
    "        sc3 = sc3 + 1\n",
    "        code = 'sc3'\n",
    "    elif tmp == 'Tidal':\n",
    "        tidal = tidal + 1\n",
    "        code = 'tidal'\n",
    "    elif (tmp == 'Sonic Pi') or (tmp == 'SonicPi'):\n",
    "        sonic = sonic + 1\n",
    "        code = 'sonic'\n",
    "    elif (tmp == 'Foxdot') or (tmp == 'FoxDot'):\n",
    "        foxdot = foxdot + 1\n",
    "        code = 'foxdot'\n",
    "    elif tmp == 'Orca':\n",
    "        orca = orca + 1\n",
    "        code = 'orca'\n",
    "    elif tmp == 'MAX/MSP':\n",
    "        maxmsp = maxmsp + 1\n",
    "        code = 'other'\n",
    "    elif tmp == 'Unknown':\n",
    "        unknown = unknown + 1\n",
    "        code = 'unknown'\n",
    "    else:\n",
    "        print(tmp)\n",
    "        code = 'other'        \n",
    "    all_lang_codes.append(code)"
   ]
  },
  {
   "cell_type": "code",
   "execution_count": null,
   "id": "58e3138e",
   "metadata": {},
   "outputs": [],
   "source": []
  },
  {
   "cell_type": "code",
   "execution_count": 19,
   "id": "f4bbccdc",
   "metadata": {},
   "outputs": [
    {
     "data": {
      "text/plain": [
       "(18, 52, 14, 8, 7, 1, 11)"
      ]
     },
     "execution_count": 19,
     "metadata": {},
     "output_type": "execute_result"
    }
   ],
   "source": [
    "sc3, tidal, sonic, foxdot, orca, maxmsp, unknown"
   ]
  },
  {
   "cell_type": "code",
   "execution_count": 20,
   "id": "2b761011",
   "metadata": {},
   "outputs": [
    {
     "data": {
      "text/plain": [
       "111"
      ]
     },
     "execution_count": 20,
     "metadata": {},
     "output_type": "execute_result"
    }
   ],
   "source": [
    "sc3 + tidal + sonic + foxdot + orca + maxmsp + unknown"
   ]
  },
  {
   "cell_type": "markdown",
   "id": "bab0b91d",
   "metadata": {},
   "source": [
    "# Language codes for scatterplot"
   ]
  },
  {
   "cell_type": "code",
   "execution_count": 21,
   "id": "3b2f43fa",
   "metadata": {},
   "outputs": [],
   "source": [
    "lang_codes = {'sc3': 1, 'tidal': 2, 'sonic': 3, 'foxdot': 4, 'orca': 5, 'unknown': 6, 'other': 7}"
   ]
  },
  {
   "cell_type": "code",
   "execution_count": 22,
   "id": "903f032a",
   "metadata": {},
   "outputs": [
    {
     "data": {
      "text/plain": [
       "({'sc3': 1,\n",
       "  'tidal': 2,\n",
       "  'sonic': 3,\n",
       "  'foxdot': 4,\n",
       "  'orca': 5,\n",
       "  'unknown': 6,\n",
       "  'other': 7},\n",
       " 7)"
      ]
     },
     "execution_count": 22,
     "metadata": {},
     "output_type": "execute_result"
    }
   ],
   "source": [
    "lang_codes, len(lang_codes)"
   ]
  },
  {
   "cell_type": "code",
   "execution_count": 23,
   "id": "842ea925",
   "metadata": {},
   "outputs": [],
   "source": [
    "lang_codes_idx = []\n",
    "for elem in all_lang_codes:\n",
    "#     print(lang_codes[elem])\n",
    "    lang_codes_idx.append(lang_codes[elem]-1)"
   ]
  },
  {
   "cell_type": "code",
   "execution_count": 24,
   "id": "f6cbb06c",
   "metadata": {},
   "outputs": [
    {
     "name": "stdout",
     "output_type": "stream",
     "text": [
      "len(lang_codes_list): 7\n"
     ]
    },
    {
     "data": {
      "text/plain": [
       "array([0, 0, 1, 0, 1, 0, 3, 1, 0, 0, 0, 1, 1, 1, 6, 1, 1, 5, 1, 1, 0, 5,\n",
       "       1, 1, 6, 5, 2, 1, 1, 5, 0, 6, 2, 3, 1, 1, 1, 1, 1, 1, 1, 1, 1, 1,\n",
       "       2, 2, 2, 4, 5, 4, 0, 0, 3, 1, 2, 6, 6, 6, 5, 1, 2, 3, 1, 0, 1, 1,\n",
       "       1, 2, 3, 6, 6, 6, 2, 4, 2, 5, 2, 4, 0, 4, 1, 1, 2, 1, 3, 5, 1, 2,\n",
       "       1, 1, 1, 1, 1, 1, 1, 1, 1, 1, 1, 1, 3, 1, 4, 0, 5, 6, 3, 1, 0, 4,\n",
       "       0, 0, 1, 0, 5, 5, 1, 2, 6, 1, 1])"
      ]
     },
     "execution_count": 24,
     "metadata": {},
     "output_type": "execute_result"
    }
   ],
   "source": [
    "lang_codes_list = ['tidal', 'sc3', 'sonic', 'foxdot', 'orca', 'other', 'unknown']\n",
    "print('len(lang_codes_list):', len(lang_codes_list))\n",
    "code_idx = np.array(lang_codes_idx) # index per language\n",
    "code_idx"
   ]
  },
  {
   "cell_type": "code",
   "execution_count": 25,
   "id": "0b693e15",
   "metadata": {},
   "outputs": [],
   "source": [
    "sc3_data = X[code_idx == 0, :]\n",
    "tidal_data = X[code_idx == 1, :]\n",
    "sonic_data = X[code_idx == 2, :]\n",
    "foxdot_data = X[code_idx == 3, :]\n",
    "orca_data = X[code_idx == 4, :]\n",
    "other_data = X[code_idx == 5, :]\n",
    "unknown_data = X[code_idx == 6, :]"
   ]
  },
  {
   "cell_type": "markdown",
   "id": "8d730425-0481-4ce8-af0c-ad0744196084",
   "metadata": {},
   "source": [
    "# Examine feature correlations\n",
    "- Below is shown the dependency of Spectral Rolloff to Spectral Centroid"
   ]
  },
  {
   "cell_type": "code",
   "execution_count": 26,
   "id": "ca7ae4f2",
   "metadata": {},
   "outputs": [
    {
     "data": {
      "text/plain": [
       "<matplotlib.legend.Legend at 0x7f549a0ba590>"
      ]
     },
     "execution_count": 26,
     "metadata": {},
     "output_type": "execute_result"
    },
    {
     "data": {
      "image/png": "[encoded data removed]",
      "text/plain": [
       "<Figure size 1200x800 with 1 Axes>"
      ]
     },
     "metadata": {},
     "output_type": "display_data"
    }
   ],
   "source": [
    "#   0: oenv_data\n",
    "#   1: centroid_data\n",
    "#   2: rolloff_data\n",
    "#   3: pitch_data\n",
    "# X: centroid, Y: rolloff\n",
    "idx_1 = 1\n",
    "idx_2 = 2\n",
    "ms = 65\n",
    "plt.figure(figsize=(12,8))\n",
    "color_map = ['tab:blue', 'tab:orange', 'tab:green', 'tab:red', 'tab:purple', 'tab:brown', 'tab:pink']\n",
    "plt.scatter(tidal_data[:, idx_1], tidal_data[:, idx_2], c=color_map[0], s=ms, alpha=0.65)\n",
    "plt.scatter(sc3_data[:, idx_1], sc3_data[:, idx_2], c=color_map[1], s=ms, alpha=0.65)\n",
    "plt.scatter(sonic_data[:, idx_1], sonic_data[:, idx_2], c=color_map[2], s=ms, alpha=0.65)\n",
    "plt.scatter(foxdot_data[:, idx_1], foxdot_data[:, idx_2], c=color_map[3], s=ms, alpha=0.65)\n",
    "plt.scatter(orca_data[:, idx_1], orca_data[:, idx_2], c=color_map[4], s=ms, alpha=0.65)\n",
    "plt.scatter(other_data[:, idx_1], other_data[:, idx_2], c=color_map[5], s=ms, alpha=0.65)\n",
    "plt.scatter(unknown_data[:, idx_1], unknown_data[:, idx_2], c=color_map[6], s=ms, alpha=0.65)\n",
    "plt.xlabel('Spectral centroid', fontsize=16)\n",
    "plt.ylabel('Spectral rolloff', fontsize=16)\n",
    "plt.legend(['Tidal', 'SC3', 'Sonic Pi', 'FoxDot', 'Orca', 'Other', 'Unknown'], fontsize=15)"
   ]
  },
  {
   "cell_type": "code",
   "execution_count": null,
   "id": "529f818d",
   "metadata": {},
   "outputs": [],
   "source": []
  }
 ],
 "metadata": {
  "kernelspec": {
   "display_name": "Python 3 (ipykernel)",
   "language": "python",
   "name": "python3"
  },
  "language_info": {
   "codemirror_mode": {
    "name": "ipython",
    "version": 3
   },
   "file_extension": ".py",
   "mimetype": "text/x-python",
   "name": "python",
   "nbconvert_exporter": "python",
   "pygments_lexer": "ipython3",
   "version": "3.10.8"
  }
 },
 "nbformat": 4,
 "nbformat_minor": 5
}

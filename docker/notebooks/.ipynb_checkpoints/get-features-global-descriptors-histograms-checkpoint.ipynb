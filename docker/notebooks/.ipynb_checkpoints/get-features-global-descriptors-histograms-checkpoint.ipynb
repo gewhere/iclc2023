{
 "cells": [
  {
   "cell_type": "markdown",
   "id": "80b42aef",
   "metadata": {},
   "source": [
    "# Load libraries"
   ]
  },
  {
   "cell_type": "code",
   "execution_count": 1,
   "id": "18b5ccea",
   "metadata": {},
   "outputs": [],
   "source": [
    "import numpy as np\n",
    "import pickle\n",
    "import os\n",
    "import matplotlib.pyplot as plt\n",
    "import random"
   ]
  },
  {
   "cell_type": "code",
   "execution_count": null,
   "id": "ed9fe15a-0752-47f5-a139-5d57f6723b27",
   "metadata": {},
   "outputs": [],
   "source": []
  },
  {
   "cell_type": "code",
   "execution_count": 2,
   "id": "e6d3dde3",
   "metadata": {},
   "outputs": [],
   "source": [
    "from collections.abc import Iterable\n",
    "\n",
    "def flatten(l):\n",
    "    for el in l:\n",
    "        if isinstance(el, Iterable) and not isinstance(el, (str, bytes)):\n",
    "            yield from flatten(el)\n",
    "        else:\n",
    "            yield el"
   ]
  },
  {
   "cell_type": "code",
   "execution_count": 3,
   "id": "3c8cc85d",
   "metadata": {},
   "outputs": [],
   "source": [
    "# Features list \n",
    "# 0 : oenv\n",
    "# 1 : tempo\n",
    "# 2 : pulse\n",
    "# 3 : mfcc\n",
    "# 4 : centroid\n",
    "# 5 : rolloff\n",
    "# 6 : flatness\n",
    "# 7 : spec_bw\n",
    "# 8 : contrast\n",
    "# 9 : pitch\n",
    "# "
   ]
  },
  {
   "cell_type": "code",
   "execution_count": 7,
   "id": "1351c392",
   "metadata": {
    "tags": []
   },
   "outputs": [
    {
     "name": "stdout",
     "output_type": "stream",
     "text": [
      "Working directory: /home/jovyan/work/data\n",
      "Working directory: /home/jovyan/work/data\n",
      "20-Mar-22-20-50-19\n",
      "20-Mar-22-20-40-21\n",
      "20-Mar-22-20-30-13\n",
      "20-Mar-22-20-20-14\n",
      "20-Mar-22-20-10-20\n",
      "20-Mar-22-20-00-13\n",
      "20-Mar-22-19-51-46\n",
      "20-Mar-22-19-40-38\n",
      "20-Mar-22-19-30-17\n",
      "20-Mar-22-19-20-25\n",
      "20-Mar-22-19-10-16\n",
      "20-Mar-22-19-00-08\n",
      "20-Mar-22-18-50-35\n",
      "20-Mar-22-18-40-16\n",
      "20-Mar-22-18-30-20\n",
      "20-Mar-22-18-20-18\n",
      "20-Mar-22-18-10-20\n",
      "20-Mar-22-17-50-15\n",
      "20-Mar-22-17-40-17\n",
      "20-Mar-22-17-30-10\n",
      "20-Mar-22-17-20-16\n",
      "20-Mar-22-17-10-19\n",
      "20-Mar-22-17-00-04\n",
      "20-Mar-22-16-50-23\n",
      "20-Mar-22-16-40-12\n",
      "20-Mar-22-16-30-17\n",
      "20-Mar-22-16-20-18\n",
      "20-Mar-22-16-10-16\n",
      "20-Mar-22-16-00-18\n",
      "20-Mar-22-15-50-05\n",
      "20-Mar-22-15-40-11\n",
      "20-Mar-22-15-30-57\n",
      "20-Mar-22-15-20-05\n",
      "20-Mar-22-15-10-15\n",
      "20-Mar-22-15-00-18\n",
      "20-Mar-22-14-50-20\n",
      "20-Mar-22-14-30-19\n",
      "20-Mar-22-14-20-14\n",
      "20-Mar-22-14-10-47\n",
      "20-Mar-22-14-00-11\n",
      "20-Mar-22-13-53-48\n",
      "20-Mar-22-13-40-20\n",
      "20-Mar-22-13-30-28\n",
      "20-Mar-22-13-20-34\n",
      "20-Mar-22-13-10-21\n",
      "20-Mar-22-13-00-13\n",
      "20-Mar-22-12-50-13\n",
      "20-Mar-22-12-30-30\n",
      "20-Mar-22-12-20-13\n",
      "20-Mar-22-12-10-18\n",
      "20-Mar-22-12-00-20\n",
      "20-Mar-22-11-30-16\n",
      "20-Mar-22-11-20-14\n",
      "20-Mar-22-11-10-16\n",
      "20-Mar-22-11-00-29\n",
      "20-Mar-22-10-50-13\n",
      "20-Mar-22-10-40-19\n",
      "20-Mar-22-10-30-01\n",
      "20-Mar-22-10-20-10\n",
      "20-Mar-22-10-10-20\n",
      "20-Mar-22-10-00-19\n",
      "20-Mar-22-09-50-18\n",
      "20-Mar-22-09-40-14\n",
      "20-Mar-22-09-30-13\n",
      "20-Mar-22-09-20-40\n",
      "20-Mar-22-09-10-20\n",
      "20-Mar-22-09-02-40\n",
      "20-Mar-22-08-50-20\n",
      "20-Mar-22-08-40-17\n",
      "20-Mar-22-08-30-12\n",
      "20-Mar-22-08-20-12\n",
      "20-Mar-22-08-10-18\n",
      "20-Mar-22-08-00-11\n",
      "20-Mar-22-07-40-18\n",
      "20-Mar-22-07-30-15\n",
      "20-Mar-22-07-20-16\n",
      "20-Mar-22-07-10-19\n",
      "20-Mar-22-07-00-20\n",
      "20-Mar-22-06-50-13\n",
      "20-Mar-22-06-40-08\n",
      "20-Mar-22-06-20-13\n",
      "20-Mar-22-06-10-14\n",
      "20-Mar-22-06-00-32\n",
      "20-Mar-22-05-52-37\n",
      "20-Mar-22-05-40-29\n",
      "20-Mar-22-05-20-42\n",
      "20-Mar-22-05-10-12\n",
      "20-Mar-22-05-00-17\n",
      "20-Mar-22-04-40-12\n",
      "20-Mar-22-04-30-15\n",
      "20-Mar-22-04-20-22\n",
      "20-Mar-22-04-10-15\n",
      "20-Mar-22-04-00-17\n",
      "20-Mar-22-03-50-14\n",
      "20-Mar-22-03-40-39\n",
      "20-Mar-22-03-30-18\n",
      "20-Mar-22-03-20-21\n",
      "20-Mar-22-03-10-30\n",
      "20-Mar-22-03-00-27\n",
      "20-Mar-22-02-50-14\n",
      "20-Mar-22-02-40-35\n",
      "20-Mar-22-02-30-17\n",
      "20-Mar-22-02-20-58\n",
      "20-Mar-22-02-10-17\n",
      "20-Mar-22-02-00-35\n",
      "20-Mar-22-01-50-16\n",
      "20-Mar-22-01-40-33\n",
      "20-Mar-22-01-38-58\n",
      "20-Mar-22-01-10-15\n",
      "20-Mar-22-01-00-19\n",
      "20-Mar-22-00-50-18\n",
      "20-Mar-22-00-32-29\n",
      "20-Mar-22-00-20-19\n",
      "20-Mar-22-00-10-17\n",
      "20-Mar-22-00-00-14\n",
      "19-Mar-22-23-40-45\n",
      "19-Mar-22-23-30-13\n",
      "19-Mar-22-23-20-13\n",
      "19-Mar-22-23-10-11\n",
      "19-Mar-22-23-01-19\n",
      "19-Mar-22-22-50-10\n",
      "19-Mar-22-22-40-19\n",
      "19-Mar-22-22-30-15\n",
      "19-Mar-22-22-20-06\n",
      "19-Mar-22-22-10-19\n",
      "19-Mar-22-22-00-20\n",
      "19-Mar-22-21-50-20\n",
      "19-Mar-22-21-40-18\n",
      "19-Mar-22-21-30-00\n",
      "19-Mar-22-21-20-14\n",
      "19-Mar-22-21-10-19\n",
      "19-Mar-22-21-00-13\n"
     ]
    }
   ],
   "source": [
    "data_pwd = '../data/'\n",
    "os.chdir(data_pwd)\n",
    "print('Working directory:', os.getcwd())\n",
    "# load extracted features\n",
    "data_fn = 'algorave10-feature-extraction.pkl'\n",
    "with open(data_fn, 'rb') as handle:\n",
    "    d = pickle.load(handle)\n",
    "keys = sorted(list(d.keys()))\n",
    "#\n",
    "\n",
    "data_pwd = '../data/'\n",
    "os.chdir(data_pwd)\n",
    "print('Working directory:', os.getcwd())\n",
    "# load list of performances\n",
    "with open('performances.pkl', 'rb') as handle:\n",
    "    performances = pickle.load(handle)\n",
    "# load list with outliers\n",
    "# with open('outliers_idx.pkl', 'rb') as handle:\n",
    "#     outliers_idx = pickle.load(handle)\n",
    "# REVERSED KEYS\n",
    "keys = list(reversed(sorted(list(d.keys()))))\n",
    "\n",
    "# get spectral centroid data\n",
    "oenv_data = [] # idx: 0\n",
    "pulse_data = [] # idx: 2\n",
    "mfcc_data = [] # idx: 3\n",
    "centroid_data = [] # idx: 4\n",
    "rolloff_data = [] # idx: 5\n",
    "flatness_data = [] # idx: 6\n",
    "specbw_data = [] # idx: 7\n",
    "contrast_data = [] # idx: 8\n",
    "pitch_data = [] # idx: 9\n",
    "\n",
    "for i in range(0, len(keys)):\n",
    "    # if i not in outliers_idx:\n",
    "    key = keys[i]\n",
    "    print(key)\n",
    "        # oenv = d[key][0][1].reshape(-1)\n",
    "        # oenv_data.append(oenv)\n",
    "        # pulse = d[key][2][1].reshape(-1)\n",
    "        # pulse_data.append(pulse)\n",
    "        # mfcc = d[key][3][1]\n",
    "        # mfcc_data.append(mfcc)\n",
    "        # centroid = d[key][4][1].reshape(-1)\n",
    "        # centroid_data.append(centroid)\n",
    "        # rolloff = d[key][5][1].reshape(-1)\n",
    "        # rolloff_data.append(rolloff)\n",
    "        # flatness = d[key][6][1].reshape(-1)\n",
    "        # flatness_data.append(flatness)\n",
    "        # specbw = d[key][7][1].reshape(-1)\n",
    "        # specbw_data.append(specbw)\n",
    "        # contrast = d[key][8][1]\n",
    "        # contrast_data.append(contrast)\n",
    "        # pitch = d[key][9][1][0]\n",
    "        # pitch_data.append(pitch)"
   ]
  },
  {
   "cell_type": "markdown",
   "id": "0bd8960d",
   "metadata": {},
   "source": [
    "# Global descriptors\n",
    "- Mean and std for each performance"
   ]
  },
  {
   "cell_type": "code",
   "execution_count": 8,
   "id": "e0d33110",
   "metadata": {},
   "outputs": [
    {
     "ename": "NameError",
     "evalue": "name 'outliers_idx' is not defined",
     "output_type": "error",
     "traceback": [
      "\u001b[0;31m---------------------------------------------------------------------------\u001b[0m",
      "\u001b[0;31mNameError\u001b[0m                                 Traceback (most recent call last)",
      "Cell \u001b[0;32mIn[8], line 1\u001b[0m\n\u001b[0;32m----> 1\u001b[0m \u001b[38;5;28mlen\u001b[39m(performances), \u001b[38;5;28mlen\u001b[39m(\u001b[43moutliers_idx\u001b[49m), \u001b[38;5;28mtype\u001b[39m(performances), \u001b[38;5;28mtype\u001b[39m(d), \u001b[38;5;28mlen\u001b[39m(\u001b[38;5;28mlist\u001b[39m(d\u001b[38;5;241m.\u001b[39mkeys())) \u001b[38;5;66;03m# list(d.keys()), \u001b[39;00m\n",
      "\u001b[0;31mNameError\u001b[0m: name 'outliers_idx' is not defined"
     ]
    }
   ],
   "source": [
    "len(performances), len(outliers_idx), type(performances), type(d), len(list(d.keys())) # list(d.keys()), "
   ]
  },
  {
   "cell_type": "code",
   "execution_count": 9,
   "id": "ebcc2cb9-2555-4f77-8c87-c647fc277d7e",
   "metadata": {},
   "outputs": [
    {
     "data": {
      "text/plain": [
       "('pulu',\n",
       " '2022-03-20 20:50',\n",
       " 'https://archive.org/details/algorave',\n",
       " 'https://archive.org/download/algorave-10-pulu/be28cb5a-06a0-4658-a467-125c8b7ed3fb-20-Mar-22-20-50-19.mp4',\n",
       " 'Helsinki',\n",
       " 'UFORAVE!QUICKLY :: from neural network poison swamp to game boy(girl) supercollider supercatastrophe')"
      ]
     },
     "execution_count": 9,
     "metadata": {},
     "output_type": "execute_result"
    }
   ],
   "source": [
    "performances[0]"
   ]
  },
  {
   "cell_type": "code",
   "execution_count": 10,
   "id": "856e9467-f89a-4915-8f9d-5229e72bb0e2",
   "metadata": {},
   "outputs": [
    {
     "data": {
      "text/plain": [
       "[]"
      ]
     },
     "execution_count": 10,
     "metadata": {},
     "output_type": "execute_result"
    }
   ],
   "source": [
    "list_d = list(d.keys())\n",
    "[x for x in enumerate(list_d) if x == '']"
   ]
  },
  {
   "cell_type": "code",
   "execution_count": 14,
   "id": "6e6f3cb5-ed0c-4578-b4b1-b9dedeff70d4",
   "metadata": {},
   "outputs": [
    {
     "data": {
      "text/plain": [
       "(('Calum Gunn',\n",
       "  '2022-03-20 19:30',\n",
       "  'https://archive.org/details/algorave',\n",
       "  'https://ia801409.us.archive.org/1/items/algorave-10-calum-gunn/44eb3658-7b7e-458e-882d-53814488a38c-20-Mar-22-19-30-17.mp4',\n",
       "  'Berlin',\n",
       "  \"Everyone's friend Calum Gunn off the top rope, back from early parenthood to play Music Online\"),\n",
       " ('redFrik',\n",
       "  '2022-03-19 22:10',\n",
       "  'https://archive.org/details/algorave',\n",
       "  'https://archive.org/download/algorave-10-redfrik/47de02cd-cc11-445a-b001-08b9321a693e-19-Mar-22-22-10-19.mp4',\n",
       "  'Ryd',\n",
       "  'superCollider'),\n",
       " ('ShaiR',\n",
       "  '2022-03-20 10:50',\n",
       "  'https://archive.org/details/algorave',\n",
       "  'https://archive.org/download/algorave-10-shair/55209664-6a30-4cfa-95ea-66ce7aff7060-20-Mar-22-10-50-13.mp4',\n",
       "  'Israel',\n",
       "  'Some strange loops'))"
      ]
     },
     "execution_count": 14,
     "metadata": {},
     "output_type": "execute_result"
    }
   ],
   "source": [
    "#list_d.index(''), \n",
    "performances[133-125], performances[125], performances[133-77]"
   ]
  },
  {
   "cell_type": "code",
   "execution_count": 10,
   "id": "e9bf405a-1c5c-4542-a694-de20d6aa8e1d",
   "metadata": {},
   "outputs": [],
   "source": [
    "import re"
   ]
  },
  {
   "cell_type": "code",
   "execution_count": 11,
   "id": "b8897e5a-a2c2-4171-a0ea-f254ae46b109",
   "metadata": {},
   "outputs": [
    {
     "data": {
      "text/plain": [
       "'19-Mar-22-22-10-19'"
      ]
     },
     "execution_count": 11,
     "metadata": {},
     "output_type": "execute_result"
    }
   ],
   "source": [
    "# pattern = \"([0-9]{4}\\-[0-9]{2}\\-[0-9]{2})\"\n",
    "pattern = \"([0-9]{2}\\-[A-Za-z]{3}\\-[2]{2}\\-[0-9]{2}\\-[0-9]{2}\\-[0-9]{2})\"\n",
    "m = re.search(pattern, performances[125][3])\n",
    "m.group(0)"
   ]
  },
  {
   "cell_type": "code",
   "execution_count": 12,
   "id": "870a1354-1b06-4d9e-a1a1-7a64164445db",
   "metadata": {},
   "outputs": [
    {
     "data": {
      "text/plain": [
       "('https://archive.org/download/algorave-10-redfrik/47de02cd-cc11-445a-b001-08b9321a693e-19-Mar-22-22-10-19.mp4',\n",
       " ('redFrik',\n",
       "  '2022-03-19 22:10',\n",
       "  'https://archive.org/details/algorave',\n",
       "  'https://archive.org/download/algorave-10-redfrik/47de02cd-cc11-445a-b001-08b9321a693e-19-Mar-22-22-10-19.mp4',\n",
       "  'Ryd',\n",
       "  'superCollider'))"
      ]
     },
     "execution_count": 12,
     "metadata": {},
     "output_type": "execute_result"
    }
   ],
   "source": [
    "performances[125][3], performances[125]"
   ]
  },
  {
   "cell_type": "code",
   "execution_count": 13,
   "id": "f4d4388f-831d-471e-bab9-b4a2ccca0454",
   "metadata": {},
   "outputs": [
    {
     "data": {
      "text/plain": [
       "(133, ['', '19-Mar-22-21-00-13', '19-Mar-22-21-10-19'])"
      ]
     },
     "execution_count": 13,
     "metadata": {},
     "output_type": "execute_result"
    }
   ],
   "source": [
    "keys = sorted(list(d.keys()))\n",
    "len(keys), keys[:3]"
   ]
  },
  {
   "cell_type": "code",
   "execution_count": 68,
   "id": "a0eb3d7c-fc41-44a7-981b-129f875955b6",
   "metadata": {},
   "outputs": [
    {
     "data": {
      "text/plain": [
       "'19-Mar-22-22-10-19.mp4'"
      ]
     },
     "execution_count": 68,
     "metadata": {},
     "output_type": "execute_result"
    }
   ],
   "source": [
    "a = '47de02cd-cc11-445a-b001-08b9321a693e-19-Mar-22-22-10-19.mp4'\n",
    "a[37:]"
   ]
  },
  {
   "cell_type": "code",
   "execution_count": 70,
   "id": "41838e25-53c0-4a0b-a1bb-36190bacf20a",
   "metadata": {},
   "outputs": [
    {
     "data": {
      "text/plain": [
       "('Calum Gunn',\n",
       " '2022-03-20 19:30',\n",
       " 'https://archive.org/details/algorave',\n",
       " 'https://ia801409.us.archive.org/1/items/algorave-10-calum-gunn/44eb3658-7b7e-458e-882d-53814488a38c-20-Mar-22-19-30-17.mp4',\n",
       " 'Berlin',\n",
       " \"Everyone's friend Calum Gunn off the top rope, back from early parenthood to play Music Online\")"
      ]
     },
     "execution_count": 70,
     "metadata": {},
     "output_type": "execute_result"
    }
   ],
   "source": [
    "performances[133-125]"
   ]
  },
  {
   "cell_type": "code",
   "execution_count": null,
   "id": "c8fe3c20-16cc-46cf-8487-5bdcd809e14b",
   "metadata": {},
   "outputs": [],
   "source": []
  },
  {
   "cell_type": "code",
   "execution_count": null,
   "id": "50a758f1-75d2-45cf-9633-8fbeb40aef26",
   "metadata": {},
   "outputs": [],
   "source": []
  },
  {
   "cell_type": "code",
   "execution_count": null,
   "id": "e54e2bed-0eb0-4116-b6df-29ddcb24da81",
   "metadata": {},
   "outputs": [],
   "source": []
  },
  {
   "cell_type": "code",
   "execution_count": null,
   "id": "a7844fff-3ad0-42f4-aa75-a43593dc9b6b",
   "metadata": {},
   "outputs": [],
   "source": []
  },
  {
   "cell_type": "code",
   "execution_count": 5,
   "id": "881880e8",
   "metadata": {},
   "outputs": [],
   "source": [
    "feature_vals = []\n",
    "\n",
    "for i in range(0, len(oenv_data)):\n",
    "#     print('i =', i)\n",
    "    vals = [\n",
    "        # mean\n",
    "        np.mean(oenv_data[i]),\n",
    "        np.mean(centroid_data[i]),\n",
    "        np.mean(rolloff_data[i]),\n",
    "        np.nanmean(pitch_data[i]),\n",
    "        # std\n",
    "#         np.std(oenv_data[i]),\n",
    "#         np.std(centroid_data[i]),\n",
    "#         np.std(rolloff_data[i]),\n",
    "#         np.nanstd(pitch_data[i]),        \n",
    "    ]\n",
    "    feature_vals.append(list(flatten(vals))) "
   ]
  },
  {
   "cell_type": "markdown",
   "id": "77257a32",
   "metadata": {},
   "source": [
    "# Assign features to a variable"
   ]
  },
  {
   "cell_type": "code",
   "execution_count": 6,
   "id": "0f92ed58",
   "metadata": {},
   "outputs": [
    {
     "data": {
      "text/plain": [
       "(48, 4)"
      ]
     },
     "execution_count": 6,
     "metadata": {},
     "output_type": "execute_result"
    }
   ],
   "source": [
    "X = np.array(feature_vals)\n",
    "X.shape"
   ]
  },
  {
   "cell_type": "code",
   "execution_count": null,
   "id": "0ed12fde",
   "metadata": {},
   "outputs": [],
   "source": []
  },
  {
   "cell_type": "code",
   "execution_count": 7,
   "id": "d4fde078",
   "metadata": {},
   "outputs": [
    {
     "data": {
      "image/png": "[encoded data removed]",
      "text/plain": [
       "<Figure size 1000x800 with 4 Axes>"
      ]
     },
     "metadata": {},
     "output_type": "display_data"
    }
   ],
   "source": [
    "tfont = 22\n",
    "bsize = 20\n",
    "plt.figure(figsize=(10,8))\n",
    "# 1\n",
    "plt.subplot(221)\n",
    "plt.hist(X[:, 0], bins=bsize);\n",
    "plt.xticks(fontsize=14)\n",
    "plt.yticks(fontsize=14)\n",
    "plt.xlabel('Frequency (Hz)', fontsize=16)\n",
    "plt.title('Onsets strength', fontsize=tfont)\n",
    "# 2\n",
    "plt.subplot(222)\n",
    "plt.hist(X[:, 3], bins=bsize);\n",
    "plt.xticks(fontsize=14, rotation=90)\n",
    "plt.yticks(fontsize=14)\n",
    "plt.xlabel('Frequency (Hz)', fontsize=16)\n",
    "plt.title('Pitch', fontsize=tfont)\n",
    "# 3\n",
    "plt.subplot(223)\n",
    "plt.hist(X[:, 1], bins=bsize);\n",
    "plt.xticks(fontsize=14, rotation=90)\n",
    "plt.yticks(fontsize=14)\n",
    "plt.xlabel('Frequency (Hz)', fontsize=16)\n",
    "plt.title('Spectral centroid', fontsize=tfont)\n",
    "# 4\n",
    "plt.subplot(224)\n",
    "plt.hist(X[:, 2], bins=bsize);\n",
    "plt.xticks(fontsize=14, rotation=90)\n",
    "plt.yticks([0, 5, 10, 15, 20], fontsize=14)\n",
    "plt.xlabel('Frequency (Hz)', fontsize=16)\n",
    "plt.title('Spectral rolloff', fontsize=tfont)\n",
    "\n",
    "plt.tight_layout()"
   ]
  },
  {
   "cell_type": "code",
   "execution_count": null,
   "id": "108cef0b",
   "metadata": {},
   "outputs": [],
   "source": []
  },
  {
   "cell_type": "markdown",
   "id": "547e21be",
   "metadata": {},
   "source": [
    "# Assign performances and systems"
   ]
  },
  {
   "cell_type": "code",
   "execution_count": 8,
   "id": "4c3ddaa5",
   "metadata": {},
   "outputs": [
    {
     "data": {
      "text/plain": [
       "(4, 4)"
      ]
     },
     "execution_count": 8,
     "metadata": {},
     "output_type": "execute_result"
    }
   ],
   "source": [
    "len(keys), len(performances)"
   ]
  },
  {
   "cell_type": "code",
   "execution_count": 9,
   "id": "17830968",
   "metadata": {
    "scrolled": true
   },
   "outputs": [
    {
     "name": "stdout",
     "output_type": "stream",
     "text": [
      "0 UFORAVE!QUICKLY :: from neural network poison swamp to game boy(girl) supercollider supercatastrophe\n",
      "1 Wonky beats and broken synths\n",
      "2 Some patterns\n",
      "3 lofi algorithmic sequencer and a load of synths followed by some crashing SuperCollider code :)\n"
     ]
    }
   ],
   "source": [
    "languages = []\n",
    "j = 0\n",
    "for i in range(0, len(performances)):\n",
    "    if i not in outliers_idx:\n",
    "        info = performances[i][5]\n",
    "        print(i, info)\n",
    "        languages.append([i, j, info])\n",
    "        j = j + 1"
   ]
  },
  {
   "cell_type": "markdown",
   "id": "66851c94",
   "metadata": {},
   "source": [
    "# Retrieved and analysis indices"
   ]
  },
  {
   "cell_type": "code",
   "execution_count": 10,
   "id": "280f601a",
   "metadata": {},
   "outputs": [
    {
     "name": "stdout",
     "output_type": "stream",
     "text": [
      "[0, 0, 'UFORAVE!QUICKLY :: from neural network poison swamp to game boy(girl) supercollider supercatastrophe']\n",
      "pulu -- https://archive.org/download/algorave-10-pulu/be28cb5a-06a0-4658-a467-125c8b7ed3fb-20-Mar-22-20-50-19.mp4\n",
      "========================\n",
      "[1, 1, 'Wonky beats and broken synths']\n",
      "Shelly knotts -- https://archive.org/download/algorave-10-shelly-knotts/0a3d99f1-d093-474c-8e37-9c9e16e87c58-20-Mar-22-20-40-21.mp4\n",
      "========================\n",
      "[2, 2, 'Some patterns']\n",
      "Yaxu -- https://archive.org/download/algorave-10-yaxu/cf0cc75b-bb1e-46f9-85bf-fe53b28ae49c-20-Mar-22-20-30-13.mp4\n",
      "========================\n",
      "[3, 3, 'lofi algorithmic sequencer and a load of synths followed by some crashing SuperCollider code :)']\n",
      "YEE-KING -- https://archive.org/download/algorave-10-yee-king/f0aef102-5c5f-4207-a6ac-588080e10430-20-Mar-22-20-20-14.mp4\n",
      "========================\n"
     ]
    }
   ],
   "source": [
    "for elem in languages:\n",
    "    print(elem)\n",
    "    print(performances[elem[0]][0], '--', performances[elem[0]][3])\n",
    "    print('========================')"
   ]
  },
  {
   "cell_type": "markdown",
   "id": "13e9d096",
   "metadata": {},
   "source": [
    "# Annotations of performance systems"
   ]
  },
  {
   "cell_type": "code",
   "execution_count": 11,
   "id": "cdd5a509",
   "metadata": {},
   "outputs": [],
   "source": [
    "annotations = [\n",
    "[0, 0, 'UFORAVE!QUICKLY :: from neural network poison swamp to game boy(girl) supercollider supercatastrophe', ['SC3', 'Tidal']],\n",
    "[1, 1, 'Wonky beats and broken synths', ['SC3']],\n",
    "[2, 2, 'Some patterns', ['Tidal']],\n",
    "[3, 3, 'lofi algorithmic sequencer and a load of synths followed by some crashing SuperCollider code :)', ['SC3']],\n",
    "[4, 4, 'Beats de la montaña', ['Tidal']],\n",
    "[5, 5, 'TidalCycles + SuperCollider', ['SC3', 'Tidal']],\n",
    "[7, 6, 'foxdot + orca', ['Foxdot', 'Orca']],\n",
    "[8, 7, \"Everyone's friend Calum Gunn off the top rope, back from early parenthood to play Music Online\", ['Tidal', 'MAX/MSP']],\n",
    "[9, 8, 'symbiotic beats / machine listening (SC3) control of live coding (Tidal) with some help from Python', ['SC3', 'Tidal']],\n",
    "[10, 9, 'AlgaLib/eration', ['SC3']],\n",
    "[11, 10, 'SuperCollider / Recursion / Choatic / Semi-Repititions', ['SC3']],\n",
    "[12, 11, 'algo-ukg', ['Tidal']],\n",
    "[13, 12, 'Some kind of krautrock with TC', ['Tidal']],\n",
    "[14, 13, 'Fun_with_swing', ['Tidal']],\n",
    "[15, 14, 'distributed live coding performance using https://c0l1v3.bgo.la/', ['c0l1v3']],\n",
    "[16, 15, \"Don't let the music distract you from the emojis\", ['Tidal']],\n",
    "[17, 16, 'event related potential / clickwork / tidalcycles with fx', ['Tidal']],\n",
    "[18, 17, 'undefined', ['Unknown']],\n",
    "[19, 18, 'Improvised from scratch Techno infused with Berliner rave spirit made with TidalCycles and SuperCollider, visuals in Hydra.', ['Tidal', 'SC3']],\n",
    "[20, 19, 'trying out some things with tidal', ['Tidal']],\n",
    "[21, 20, 'beats and sounds with SuperCollider', ['SC3']],\n",
    "[22, 21, 'Khipumancer (+ the Neokhipukamayoq Manifesto)', ['Unknown']],\n",
    "[23, 22, 'TWN Botcore', ['Tidal']],\n",
    "[24, 23, 'Subaquatic live-coding and analog visuals', ['Tidal']],\n",
    "[25, 24, 'using soundb0ard // https://github.com/sideb0ard/SoundB0ard', ['SoundB0ard']],\n",
    "[26, 25, '(a)live computing dance', ['Unknown']],\n",
    "[27, 26, 'cinging (coding + singing)', ['Sonic Pi']],\n",
    "[28, 27, 'a DIY guitar + synths + flock', ['Tidal']],\n",
    "[29, 28, 'etheric birthday loop meditations in tidal + hydra', ['Tidal']],\n",
    "[30, 29, \"'PyTouch'\", ['Unknown']],\n",
    "[32, 30, 'live and coding', ['SC3']],\n",
    "[33, 31, 'live drawing + hydra + maybe freesound or maybe not', ['JS']],\n",
    "[34, 32, 'i love sonicPI', ['Sonic Pi']],\n",
    "[35, 33, 'BBScar (FoxDot)', ['FoxDot']],\n",
    "[36, 34, 'Tidalcycles / TouchDesigner and openFrameworks visials', ['Tidal']],\n",
    "[37, 35, 'Livecoding with TidalCycles & TouchDesigner.', ['Tidal']],\n",
    "[38, 36, 'My first Livecoding performance using Strudel REPL, which runs new tidal js implementation: https://strudel.tidalcycles.org/', ['Tidal']],\n",
    "[39, 37, 'EverySongIOwn making music using neural networks and entire teenage music collection. https://soundcloud.com/skatterbrainz/everysongiown-v3', ['Tidal']],\n",
    "[41, 38, 'tidalcycles_touchdesigner', ['Tidal']],\n",
    "[42, 39, 'Indian Dance Music, Irregular Dance Music, or Irrelevant Dance Music', ['Tidal']],\n",
    "[43, 40, 'TidalCycles + Drum Machines + Hardware Synths + Hydra', ['Tidal']],\n",
    "[44, 41, 'TidalCycles', ['Tidal']],\n",
    "[45, 42, \"I'm bad at writing descriptions\", ['Tidal']],\n",
    "[46, 43, '#algoclassical #algolectro #codeDJ #tidalcycles', ['Tidal']],\n",
    "[47, 44, 'Performance with SonicPi and MIDI controller', ['SonicPi']],\n",
    "[48, 45, 'SonicPi Live coding Acid Techno', ['SonicPi']],\n",
    "[49, 46, 'SonicPi + orca', ['Sonic Pi', 'Orca']],\n",
    "[50, 47, 'Orca beats + Veda visuals : bentnoise on Insta', ['Orca']],\n",
    "[51, 48, 'incoherent electronic garbage', ['Unknown']],\n",
    "[52, 49, 'microtuned modal music with ORCA and folderkit', ['Orca']],\n",
    "[53, 50, 'Bzz bzzs, blip blops, and other awful sounds with TidalCycles and SuperCollider', ['SC3', 'Tidal']],\n",
    "[54, 51, 'supercollider and kemence', ['SC3']],\n",
    "[55, 52, 'Foxdot', ['Foxdot']],\n",
    "[56, 53, 'Some strange loops', ['Tidal']],\n",
    "[57, 54, 'newbie making breakbeaty things on sonic pi', ['Sonic Pi']],\n",
    "[58, 55, 'Lisp powered ChucK : Cisp', ['Chuck', 'Lisp']],\n",
    "[59, 56, 'Playing Cascade, a custom made software that turns graphic rules into sound', ['Cascade']],\n",
    "[60, 57, 'Csound and haskell + maybe some Elektron magic?', ['CSound']],\n",
    "[61, 58, 'vvvv + Hydra with some kind of accompanying audio', ['Unknown']],\n",
    "[62, 59, 'tripped-out melodic tidal beats', ['Tidal']],\n",
    "[63, 60, 'Sonic Pi exploration :)', ['Sonic Pi']],\n",
    "[64, 61, 'first stream ever = better-late-than-never foxdot bleep-blorp vibes', ['Foxdot']],\n",
    "[65, 62, 'Tidal/Punctual 10th birthday party sounds', ['Tidal']],\n",
    "[66, 63, 'Supercollider synthdefs sequenced using TidalCycles, with web/JavaScript visuals.', ['SC3']],\n",
    "[68, 64, 'Low self-opinion livecoding rumble', ['Tidal']],\n",
    "[69, 65, 'Untse-untse + spanish scale', ['Tidal']],\n",
    "[70, 66, 'hard coding', ['Tidal', 'SC3']],\n",
    "[71, 67, 'Coffee break w/sonic pi.', ['Sonic Pi']],\n",
    "[73, 68, 'Foxdot / battle against a non-AI random generative server', ['Foxdot']],\n",
    "[74, 69, 'Godti/Sema', ['Sema', 'Godti']],\n",
    "[75, 70, 'Ableton, Self-LaunchClips + Max4Live Basicness', ['Ableton', 'MAX/MSP']],\n",
    "[76, 71, 'Unpredictable MIDI panic. Or possibly ambient generative analog synth. Who knows?', ['MAX/MSP']],\n",
    "[77, 72, 'Live Coding w/ Sonic Pi', ['Sonic Pi']],\n",
    "[78, 73, 'Touched by Brazil (Orca beats)', ['Orca']],\n",
    "[79, 74, 'Livecoded Ragas / Sonic Pi', ['Sonic Pi']],\n",
    "[80, 75, 'Live code, Real time Color trails', ['Unknown']],\n",
    "[81, 76, 'True Tales : Tales of Ten : SonicPi/LivecodeLab/Poetry/Others', ['Sonic Pi']],\n",
    "[82, 77, 'Gabber and Breakcore with ORCA', ['Orca']],\n",
    "[83, 78, \"Algoravin' Broken Techno with Supercollider\", ['SC3']],\n",
    "[85, 79, 'pilot orca', ['Orca']],\n",
    "[87, 80, 'Something strange and possibly hearing loss inducing using hardware synths and TidalCycles', ['Tidal']],\n",
    "[88, 81, 'TidalCycles', ['Tidal']],\n",
    "[89, 82, 'hydra.js / Sonic pi / Orca / Dirtywave M8', ['Sonic Pi', 'Orca']],\n",
    "[90, 83, 'some suff ive been working on', ['Tidal']],\n",
    "[92, 84, 'Noise // FoxDot // Synths // Hydra', ['Foxdot']],\n",
    "[93, 85, 'DJ with YouTube with Live Coding. First Try Experiment New Tools', ['Unknown', 'Youtube']],\n",
    "[95, 86, 'tidal cycles + hydra + max/msp', ['Tidal', 'MAX/MSP']],\n",
    "[96, 87, 'Sonic Pi, Petal', ['Sonic Pi']],\n",
    "[97, 88, 'Tidalcycles', ['Tidal']],\n",
    "[98, 89, 'Tidalcycles & guitar', ['Tidal']],\n",
    "[99, 90, 'Tidal', ['Tidal']],\n",
    "[100, 91, 'TidalCycles & Synths', ['Tidal']],\n",
    "[101, 92, 'cyberwave x combosoft', ['Tidal', 'Orca']],\n",
    "[102, 93, 'Tidalcycles', ['Tidal']],\n",
    "[103, 94, 'TidalCycles + Modular Synth + TouchDesigner', ['Tidal']],\n",
    "[104, 95, 'Solo Bass Sampled into TidalCycles', ['Tidal']],\n",
    "[105, 96, 'Algorithmic dance music with TidalCycles', ['Tidal']],\n",
    "[106, 97, 'Improvisation (Tidal + Max)', ['Tidal', 'MAX/MSP']],\n",
    "[107, 98, 'Peruvian rockstar trying to be COOL (TidalCycles)', ['Tidal']],\n",
    "[109, 99, 'TidalCycles/Hydra', ['Tidal']],\n",
    "[110, 100, 'Hydra+FoxDot+More stuff', ['Foxdot']],\n",
    "[111, 101, 'Electronic Music, Techno, IDM with Tidal Cycles controlling Analog, Digital Synths and Modular', ['Tidal']],\n",
    "[113, 102, 'orca / smol hardware synths', ['Orca']],\n",
    "[114, 103, 'nTexto > clases + patrones + sonidos con SC > Hydra', ['SC3']],\n",
    "[115, 104, 'Not sure', ['Unknown']],\n",
    "[116, 105, 'An open jam for anyone to come and join', ['Estuary']],\n",
    "[117, 106, 'Foxdot', ['Foxdot']],\n",
    "[118, 107, 'Diffracted-Cut-Up-Power-Glitch', ['Tidal']],\n",
    "[119, 108, 'noise, drone, pulses, SuperCollider', ['SC3']],\n",
    "[121, 109, 'Live coding ensemble using Hydra / Orca / hybrid modular synths', ['Orca']],\n",
    "[122, 110, 'minimal noise', ['SC3']],\n",
    "[123, 111, 'lo-fi', ['SC3']],\n",
    "[124, 112, 'The Great Collapsing Hrung Disaster', ['Tidal', 'SC3']],\n",
    "[125, 113, 'superCollider', ['SC3']],\n",
    "[126, 114, 'three girls from cyberspace, wearing space helmets, probably', ['Unknown']],\n",
    "[127, 115, 'procedural arps & beats', ['Unknown']],\n",
    "[128, 116, 'Tidal strikes again!', ['Tidal']],\n",
    "[129, 117, 'Live coding and live looping with Sonic Pi', ['Sonic Pi']],\n",
    "[130, 118, 'Perform with Glicol: A graph-oriented live coding language written in Rust', ['Glicol']],\n",
    "[131, 119, 'Spring cleaning with tidal cycles', ['Tidal']],\n",
    "[132, 120, '????', ['Tidal']]\n",
    "]"
   ]
  },
  {
   "cell_type": "code",
   "execution_count": 12,
   "id": "c2381ccd",
   "metadata": {},
   "outputs": [
    {
     "data": {
      "text/plain": [
       "121"
      ]
     },
     "execution_count": 12,
     "metadata": {},
     "output_type": "execute_result"
    }
   ],
   "source": [
    "len(annotations)"
   ]
  },
  {
   "cell_type": "code",
   "execution_count": 13,
   "id": "08ed258c",
   "metadata": {},
   "outputs": [
    {
     "name": "stdout",
     "output_type": "stream",
     "text": [
      "c0l1v3\n",
      "SoundB0ard\n",
      "JS\n",
      "Chuck\n",
      "Cascade\n",
      "CSound\n",
      "Sema\n",
      "Ableton\n",
      "Estuary\n",
      "Glicol\n"
     ]
    }
   ],
   "source": [
    "sc3 = 0\n",
    "tidal = 0\n",
    "sonic = 0\n",
    "foxdot = 0\n",
    "orca = 0\n",
    "maxmsp = 0\n",
    "unknown = 0\n",
    "all_lang_codes = []\n",
    "for elem in annotations:\n",
    "#     print(elem[-1][0])\n",
    "    tmp =  elem[-1][0]\n",
    "    if tmp == 'SC3':\n",
    "        sc3 = sc3 + 1\n",
    "        code = 'sc3'\n",
    "    elif tmp == 'Tidal':\n",
    "        tidal = tidal + 1\n",
    "        code = 'tidal'\n",
    "    elif (tmp == 'Sonic Pi') or (tmp == 'SonicPi'):\n",
    "        sonic = sonic + 1\n",
    "        code = 'sonic'\n",
    "    elif (tmp == 'Foxdot') or (tmp == 'FoxDot'):\n",
    "        foxdot = foxdot + 1\n",
    "        code = 'foxdot'\n",
    "    elif tmp == 'Orca':\n",
    "        orca = orca + 1\n",
    "        code = 'orca'\n",
    "    elif tmp == 'MAX/MSP':\n",
    "        maxmsp = maxmsp + 1\n",
    "        code = 'other'\n",
    "    elif tmp == 'Unknown':\n",
    "        unknown = unknown + 1\n",
    "        code = 'unknown'\n",
    "    else:\n",
    "        print(tmp)\n",
    "        code = 'other'        \n",
    "    all_lang_codes.append(code)"
   ]
  },
  {
   "cell_type": "code",
   "execution_count": null,
   "id": "58e3138e",
   "metadata": {},
   "outputs": [],
   "source": []
  },
  {
   "cell_type": "code",
   "execution_count": 14,
   "id": "f4bbccdc",
   "metadata": {},
   "outputs": [
    {
     "data": {
      "text/plain": [
       "(18, 52, 14, 8, 7, 1, 11)"
      ]
     },
     "execution_count": 14,
     "metadata": {},
     "output_type": "execute_result"
    }
   ],
   "source": [
    "sc3, tidal, sonic, foxdot, orca, maxmsp, unknown"
   ]
  },
  {
   "cell_type": "code",
   "execution_count": 15,
   "id": "2b761011",
   "metadata": {},
   "outputs": [
    {
     "data": {
      "text/plain": [
       "111"
      ]
     },
     "execution_count": 15,
     "metadata": {},
     "output_type": "execute_result"
    }
   ],
   "source": [
    "sc3 + tidal + sonic + foxdot + orca + maxmsp + unknown"
   ]
  },
  {
   "cell_type": "markdown",
   "id": "bab0b91d",
   "metadata": {},
   "source": [
    "# Language codes for scatterplot"
   ]
  },
  {
   "cell_type": "code",
   "execution_count": 16,
   "id": "3b2f43fa",
   "metadata": {},
   "outputs": [],
   "source": [
    "lang_codes = {'sc3': 1, 'tidal': 2, 'sonic': 3, 'foxdot': 4, 'orca': 5, 'unknown': 6, 'other': 7}"
   ]
  },
  {
   "cell_type": "code",
   "execution_count": 17,
   "id": "903f032a",
   "metadata": {},
   "outputs": [
    {
     "data": {
      "text/plain": [
       "({'sc3': 1,\n",
       "  'tidal': 2,\n",
       "  'sonic': 3,\n",
       "  'foxdot': 4,\n",
       "  'orca': 5,\n",
       "  'unknown': 6,\n",
       "  'other': 7},\n",
       " 7)"
      ]
     },
     "execution_count": 17,
     "metadata": {},
     "output_type": "execute_result"
    }
   ],
   "source": [
    "lang_codes, len(lang_codes)"
   ]
  },
  {
   "cell_type": "code",
   "execution_count": 18,
   "id": "842ea925",
   "metadata": {},
   "outputs": [],
   "source": [
    "lang_codes_idx = []\n",
    "for elem in all_lang_codes:\n",
    "#     print(lang_codes[elem])\n",
    "    lang_codes_idx.append(lang_codes[elem]-1)"
   ]
  },
  {
   "cell_type": "code",
   "execution_count": 19,
   "id": "f6cbb06c",
   "metadata": {},
   "outputs": [
    {
     "name": "stdout",
     "output_type": "stream",
     "text": [
      "len(lang_codes_list): 7\n"
     ]
    },
    {
     "data": {
      "text/plain": [
       "array([0, 0, 1, 0, 1, 0, 3, 1, 0, 0, 0, 1, 1, 1, 6, 1, 1, 5, 1, 1, 0, 5,\n",
       "       1, 1, 6, 5, 2, 1, 1, 5, 0, 6, 2, 3, 1, 1, 1, 1, 1, 1, 1, 1, 1, 1,\n",
       "       2, 2, 2, 4, 5, 4, 0, 0, 3, 1, 2, 6, 6, 6, 5, 1, 2, 3, 1, 0, 1, 1,\n",
       "       1, 2, 3, 6, 6, 6, 2, 4, 2, 5, 2, 4, 0, 4, 1, 1, 2, 1, 3, 5, 1, 2,\n",
       "       1, 1, 1, 1, 1, 1, 1, 1, 1, 1, 1, 1, 3, 1, 4, 0, 5, 6, 3, 1, 0, 4,\n",
       "       0, 0, 1, 0, 5, 5, 1, 2, 6, 1, 1])"
      ]
     },
     "execution_count": 19,
     "metadata": {},
     "output_type": "execute_result"
    }
   ],
   "source": [
    "lang_codes_list = ['tidal', 'sc3', 'sonic', 'foxdot', 'orca', 'other', 'unknown']\n",
    "print('len(lang_codes_list):', len(lang_codes_list))\n",
    "code_idx = np.array(lang_codes_idx) # index per language\n",
    "code_idx"
   ]
  },
  {
   "cell_type": "code",
   "execution_count": 20,
   "id": "0b693e15",
   "metadata": {},
   "outputs": [
    {
     "ename": "IndexError",
     "evalue": "boolean index did not match indexed array along dimension 0; dimension is 4 but corresponding boolean dimension is 121",
     "output_type": "error",
     "traceback": [
      "\u001b[0;31m---------------------------------------------------------------------------\u001b[0m",
      "\u001b[0;31mIndexError\u001b[0m                                Traceback (most recent call last)",
      "Cell \u001b[0;32mIn [20], line 1\u001b[0m\n\u001b[0;32m----> 1\u001b[0m sc3_data \u001b[38;5;241m=\u001b[39m \u001b[43mX\u001b[49m\u001b[43m[\u001b[49m\u001b[43mcode_idx\u001b[49m\u001b[43m \u001b[49m\u001b[38;5;241;43m==\u001b[39;49m\u001b[43m \u001b[49m\u001b[38;5;241;43m0\u001b[39;49m\u001b[43m,\u001b[49m\u001b[43m \u001b[49m\u001b[43m:\u001b[49m\u001b[43m]\u001b[49m\n\u001b[1;32m      2\u001b[0m tidal_data \u001b[38;5;241m=\u001b[39m X[code_idx \u001b[38;5;241m==\u001b[39m \u001b[38;5;241m1\u001b[39m, :]\n\u001b[1;32m      3\u001b[0m sonic_data \u001b[38;5;241m=\u001b[39m X[code_idx \u001b[38;5;241m==\u001b[39m \u001b[38;5;241m2\u001b[39m, :]\n",
      "\u001b[0;31mIndexError\u001b[0m: boolean index did not match indexed array along dimension 0; dimension is 4 but corresponding boolean dimension is 121"
     ]
    }
   ],
   "source": [
    "sc3_data = X[code_idx == 0, :]\n",
    "tidal_data = X[code_idx == 1, :]\n",
    "sonic_data = X[code_idx == 2, :]\n",
    "foxdot_data = X[code_idx == 3, :]\n",
    "orca_data = X[code_idx == 4, :]\n",
    "other_data = X[code_idx == 5, :]\n",
    "unknown_data = X[code_idx == 6, :]"
   ]
  },
  {
   "cell_type": "code",
   "execution_count": 21,
   "id": "ca7ae4f2",
   "metadata": {},
   "outputs": [
    {
     "ename": "NameError",
     "evalue": "name 'tidal_data' is not defined",
     "output_type": "error",
     "traceback": [
      "\u001b[0;31m---------------------------------------------------------------------------\u001b[0m",
      "\u001b[0;31mNameError\u001b[0m                                 Traceback (most recent call last)",
      "Cell \u001b[0;32mIn [21], line 11\u001b[0m\n\u001b[1;32m      9\u001b[0m plt\u001b[38;5;241m.\u001b[39mfigure(figsize\u001b[38;5;241m=\u001b[39m(\u001b[38;5;241m12\u001b[39m,\u001b[38;5;241m8\u001b[39m))\n\u001b[1;32m     10\u001b[0m color_map \u001b[38;5;241m=\u001b[39m [\u001b[38;5;124m'\u001b[39m\u001b[38;5;124mtab:blue\u001b[39m\u001b[38;5;124m'\u001b[39m, \u001b[38;5;124m'\u001b[39m\u001b[38;5;124mtab:orange\u001b[39m\u001b[38;5;124m'\u001b[39m, \u001b[38;5;124m'\u001b[39m\u001b[38;5;124mtab:green\u001b[39m\u001b[38;5;124m'\u001b[39m, \u001b[38;5;124m'\u001b[39m\u001b[38;5;124mtab:red\u001b[39m\u001b[38;5;124m'\u001b[39m, \u001b[38;5;124m'\u001b[39m\u001b[38;5;124mtab:purple\u001b[39m\u001b[38;5;124m'\u001b[39m, \u001b[38;5;124m'\u001b[39m\u001b[38;5;124mtab:brown\u001b[39m\u001b[38;5;124m'\u001b[39m, \u001b[38;5;124m'\u001b[39m\u001b[38;5;124mtab:pink\u001b[39m\u001b[38;5;124m'\u001b[39m]\n\u001b[0;32m---> 11\u001b[0m plt\u001b[38;5;241m.\u001b[39mscatter(\u001b[43mtidal_data\u001b[49m[:, idx_1], tidal_data[:, idx_2], c\u001b[38;5;241m=\u001b[39mcolor_map[\u001b[38;5;241m0\u001b[39m], s\u001b[38;5;241m=\u001b[39mms, alpha\u001b[38;5;241m=\u001b[39m\u001b[38;5;241m0.65\u001b[39m)\n\u001b[1;32m     12\u001b[0m plt\u001b[38;5;241m.\u001b[39mscatter(sc3_data[:, idx_1], sc3_data[:, idx_2], c\u001b[38;5;241m=\u001b[39mcolor_map[\u001b[38;5;241m1\u001b[39m], s\u001b[38;5;241m=\u001b[39mms, alpha\u001b[38;5;241m=\u001b[39m\u001b[38;5;241m0.65\u001b[39m)\n\u001b[1;32m     13\u001b[0m plt\u001b[38;5;241m.\u001b[39mscatter(sonic_data[:, idx_1], sonic_data[:, idx_2], c\u001b[38;5;241m=\u001b[39mcolor_map[\u001b[38;5;241m2\u001b[39m], s\u001b[38;5;241m=\u001b[39mms, alpha\u001b[38;5;241m=\u001b[39m\u001b[38;5;241m0.65\u001b[39m)\n",
      "\u001b[0;31mNameError\u001b[0m: name 'tidal_data' is not defined"
     ]
    },
    {
     "data": {
      "text/plain": [
       "<Figure size 1200x800 with 0 Axes>"
      ]
     },
     "metadata": {},
     "output_type": "display_data"
    }
   ],
   "source": [
    "#   0: oenv_data\n",
    "#   1: centroid_data\n",
    "#   2: rolloff_data\n",
    "#   3: pitch_data\n",
    "# X: centroid, Y: rolloff\n",
    "idx_1 = 1\n",
    "idx_2 = 2\n",
    "ms = 65\n",
    "plt.figure(figsize=(12,8))\n",
    "color_map = ['tab:blue', 'tab:orange', 'tab:green', 'tab:red', 'tab:purple', 'tab:brown', 'tab:pink']\n",
    "plt.scatter(tidal_data[:, idx_1], tidal_data[:, idx_2], c=color_map[0], s=ms, alpha=0.65)\n",
    "plt.scatter(sc3_data[:, idx_1], sc3_data[:, idx_2], c=color_map[1], s=ms, alpha=0.65)\n",
    "plt.scatter(sonic_data[:, idx_1], sonic_data[:, idx_2], c=color_map[2], s=ms, alpha=0.65)\n",
    "plt.scatter(foxdot_data[:, idx_1], foxdot_data[:, idx_2], c=color_map[3], s=ms, alpha=0.65)\n",
    "plt.scatter(orca_data[:, idx_1], orca_data[:, idx_2], c=color_map[4], s=ms, alpha=0.65)\n",
    "plt.scatter(other_data[:, idx_1], other_data[:, idx_2], c=color_map[5], s=ms, alpha=0.65)\n",
    "plt.scatter(unknown_data[:, idx_1], unknown_data[:, idx_2], c=color_map[6], s=ms, alpha=0.65)\n",
    "plt.xlabel('Spectral centroid', fontsize=16)\n",
    "plt.ylabel('Spectral rolloff', fontsize=16)\n",
    "plt.legend(['Tidal', 'SC3', 'Sonic Pi', 'FoxDot', 'Orca', 'Other', 'Unknown'], fontsize=15)"
   ]
  },
  {
   "cell_type": "code",
   "execution_count": null,
   "id": "529f818d",
   "metadata": {},
   "outputs": [],
   "source": []
  }
 ],
 "metadata": {
  "kernelspec": {
   "display_name": "Python 3 (ipykernel)",
   "language": "python",
   "name": "python3"
  },
  "language_info": {
   "codemirror_mode": {
    "name": "ipython",
    "version": 3
   },
   "file_extension": ".py",
   "mimetype": "text/x-python",
   "name": "python",
   "nbconvert_exporter": "python",
   "pygments_lexer": "ipython3",
   "version": "3.10.8"
  }
 },
 "nbformat": 4,
 "nbformat_minor": 5
}
